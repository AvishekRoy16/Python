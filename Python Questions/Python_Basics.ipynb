{
 "cells": [
  {
   "cell_type": "markdown",
   "metadata": {},
   "source": [
    "# Python Questions"
   ]
  },
  {
   "cell_type": "markdown",
   "metadata": {},
   "source": [
    "## Introduction to Python"
   ]
  },
  {
   "cell_type": "markdown",
   "metadata": {},
   "source": [
    "### Question 1\r\n",
    "Write a program to input marks of three tests of a student (all integers). Then calculate and print the average of all test marks.  \r\n",
    "\r\n",
    "Sample Input 1 :  \r\n",
    "3  \r\n",
    "4  \r\n",
    "6  \r\n",
    "\r\n",
    "Sample Output 1 :  \r\n",
    "4.333333333333333"
   ]
  },
  {
   "cell_type": "code",
   "execution_count": 1,
   "metadata": {},
   "outputs": [
    {
     "name": "stdout",
     "output_type": "stream",
     "text": [
      "4.333333333333333\n"
     ]
    }
   ],
   "source": [
    "a = int(input())\r\n",
    "b = int(input())\r\n",
    "c = int(input())\r\n",
    "d = (a+b+c)/3\r\n",
    "print(d)"
   ]
  },
  {
   "cell_type": "markdown",
   "metadata": {},
   "source": [
    "### Question 2\r\n",
    "You are given two integers: X and N. You have to calculate X raised to power N and print it.\r\n",
    "\r\n",
    "**Input format:**\r\n",
    "The first line of input contains an integer X (1 <= X <= 100)\r\n",
    "The second line of input contains an integer N (1 <= N <= 10) \r\n",
    "\r\n",
    "**Constraints:**\r\n",
    "Time Limit: 1 second\r\n",
    "\r\n",
    "**Output format:**\r\n",
    "The first and only line of output contains the result.  \r\n",
    "\r\n",
    "Sample Input:  \r\n",
    "10  \r\n",
    "4  \r\n",
    "\r\n",
    "Sample Output:  \r\n",
    "10000"
   ]
  },
  {
   "cell_type": "code",
   "execution_count": 1,
   "metadata": {},
   "outputs": [
    {
     "name": "stdout",
     "output_type": "stream",
     "text": [
      "10000\n"
     ]
    }
   ],
   "source": [
    "X = int(input())\r\n",
    "N = int(input())\r\n",
    "\r\n",
    "a = X**N\r\n",
    "\r\n",
    "print(a)"
   ]
  },
  {
   "cell_type": "markdown",
   "metadata": {},
   "source": [
    "### Question 3\r\n",
    "*Arithmetic Progression*\r\n",
    "\r\n",
    "You are given first three entries of an arithmetic progression. You have to calculate the common difference and print it.\r\n",
    "\r\n",
    "**Input format:**\r\n",
    "The first line of input contains an integer a (1 <= a <= 100)  \r\n",
    "The second line of input contains an integer b (1 <= b <= 100)   \r\n",
    "The third line of input contains an integer c (1 <= c <= 100)  \r\n",
    "\r\n",
    "**Constraints:**\r\n",
    "Time Limit: 1 second\r\n",
    "\r\n",
    "**Output format:**\r\n",
    "The first and only line of output contains the result.  \r\n",
    "\r\n",
    "Sample Input:  \r\n",
    "1  \r\n",
    "3  \r\n",
    "5  \r\n",
    "Sample Output:  \r\n",
    "2"
   ]
  },
  {
   "cell_type": "code",
   "execution_count": null,
   "metadata": {},
   "outputs": [],
   "source": [
    "a  = int(input())\r\n",
    "b  = int(input())\r\n",
    "c  = int(input())\r\n",
    "\r\n",
    "d = c - b\r\n",
    "\r\n",
    "print(d)"
   ]
  },
  {
   "cell_type": "markdown",
   "metadata": {},
   "source": [
    "### Question 4\r\n",
    "*Rectangular Area*\r\n",
    "\r\n",
    "You are given a rectangle in a plane. The corner coordinates of this rectangle is provided to you. You have to print the amount of area of the plane covered by this rectangle.\r\n",
    "The end coordinates are provided as four integral values: x1, y1, x2, y2. It is given that x1 < x2 and y1 < y2.\r\n",
    "\r\n",
    "**Input format:**  \r\n",
    "The first line of input contains an integer x1 (1 <= x1 <= 10)  \r\n",
    "The second line of input contains an integer y1 (1 <= y1 <= 10)  \r\n",
    "The third line of input contains an integer x2 (1 <= x2 <= 10)  \r\n",
    "The fourth line of input contains an integer y2 (1 <= y2 <= 10)  \r\n",
    "\r\n",
    "**Constraints:**\r\n",
    "Time Limit: 1 second\r\n",
    "\r\n",
    "**Output format:** \r\n",
    "The first and only line of output contains the result.  \r\n",
    "\r\n",
    "Sample Input:  \r\n",
    "1  \r\n",
    "1  \r\n",
    "3  \r\n",
    "3  \r\n",
    "\r\n",
    "Sample Output:  \r\n",
    "4  "
   ]
  },
  {
   "cell_type": "code",
   "execution_count": 8,
   "metadata": {},
   "outputs": [
    {
     "name": "stdout",
     "output_type": "stream",
     "text": [
      "4\n"
     ]
    }
   ],
   "source": [
    "x1 = int(input())\r\n",
    "x2 = int(input())\r\n",
    "y1 = int(input())\r\n",
    "y2 = int(input())\r\n",
    "\r\n",
    "a = x1 - y1\r\n",
    "b = x2 - y2\r\n",
    "d = a * b\r\n",
    "\r\n",
    "print(d)\r\n"
   ]
  },
  {
   "cell_type": "markdown",
   "metadata": {},
   "source": [
    "## Conditionals and Loops"
   ]
  },
  {
   "cell_type": "markdown",
   "metadata": {},
   "source": [
    "### Question 1"
   ]
  },
  {
   "cell_type": "markdown",
   "metadata": {},
   "source": [
    "#### Check Number\r\n",
    "\r\n",
    "Given an integer n, find if n is positive, negative or 0.\r\n",
    "If n is positive, print \"Positive\"\r\n",
    "If n is negative, print \"Negative\"\r\n",
    "And if n is equal to 0, print \"Zero\".\r\n",
    "\r\n",
    "Input Format :  \r\n",
    "Integer n  \r\n",
    "Output Format :  \r\n",
    "\"Positive\" or \"Negative\" or \"Zero\" (without double quotes)\r\n",
    "\r\n",
    "**Constraints :**\r\n",
    "1 <= n <= 100  \r\n",
    "\r\n",
    "Sample Input 1 :  \r\n",
    "10  \r\n",
    "Sample Output 1 :  \r\n",
    "Positive  \r\n",
    "Sample Input 2 :  \r\n",
    "-10  \r\n",
    "Sample Output 2 :  \r\n",
    "Negative  "
   ]
  },
  {
   "cell_type": "code",
   "execution_count": 6,
   "metadata": {},
   "outputs": [
    {
     "name": "stdout",
     "output_type": "stream",
     "text": [
      "Negative\n"
     ]
    }
   ],
   "source": [
    "n = int(input())\r\n",
    "if (n > 0):\r\n",
    "    print(\"Positive\")\r\n",
    "elif (n == 0):\r\n",
    "    print(\"Zero\")\r\n",
    "else:\r\n",
    "    print(\"Negative\")"
   ]
  },
  {
   "cell_type": "markdown",
   "metadata": {},
   "source": [
    "### Question 2"
   ]
  },
  {
   "cell_type": "markdown",
   "metadata": {},
   "source": [
    "#### Sum of n numbers\r\n",
    "\r\n",
    "Given an integer n, find and print the sum of numbers from 1 to n.  \r\n",
    "Note : Use while loop only.  \r\n",
    "\r\n",
    "Input Format :  \r\n",
    "Integer n  \r\n",
    "Output Format :  \r\n",
    "Sum  \r\n",
    "\r\n",
    "Constraints :  \r\n",
    "1 <= n <= 100\r\n",
    "\r\n",
    "Sample Input :  \r\n",
    "10  \r\n",
    "Sample Output :  \r\n",
    "55  "
   ]
  },
  {
   "cell_type": "code",
   "execution_count": 7,
   "metadata": {},
   "outputs": [
    {
     "name": "stdout",
     "output_type": "stream",
     "text": [
      "55\n"
     ]
    }
   ],
   "source": [
    "n  = int(input())\r\n",
    "ctr = 1\r\n",
    "sum = 0\r\n",
    "while ctr <= n:\r\n",
    "    sum = sum + ctr\r\n",
    "    ctr = ctr + 1\r\n",
    "print(sum)  "
   ]
  },
  {
   "cell_type": "markdown",
   "metadata": {},
   "source": [
    "### Quesstion 3"
   ]
  },
  {
   "cell_type": "markdown",
   "metadata": {},
   "source": [
    "#### Sum of Even Numbers\r\n",
    "\r\n",
    "Given a number N, print sum of all even numbers from 1 to N.  \r\n",
    "\r\n",
    "Input Format :  \r\n",
    "Integer N  \r\n",
    "Output Format :  \r\n",
    "Required Sum   \r\n",
    "\r\n",
    "Sample Input 1 :  \r\n",
    " 6  \r\n",
    "Sample Output 1 :  \r\n",
    "12"
   ]
  },
  {
   "cell_type": "code",
   "execution_count": 1,
   "metadata": {},
   "outputs": [
    {
     "name": "stdout",
     "output_type": "stream",
     "text": [
      "12\n"
     ]
    }
   ],
   "source": [
    "N = int(input())\r\n",
    "i = 1\r\n",
    "sum = 0\r\n",
    "while i <= N:\r\n",
    "    if (i % 2 ==0):\r\n",
    "        sum = sum + i\r\n",
    "        i = i + 1\r\n",
    "    else:\r\n",
    "        i = i + 1\r\n",
    "print(sum)  "
   ]
  },
  {
   "cell_type": "markdown",
   "metadata": {},
   "source": [
    "### Question 4"
   ]
  },
  {
   "cell_type": "markdown",
   "metadata": {},
   "source": [
    "#### Prime Number\r\n",
    "\r\n",
    "Check to see weather a given number n is prime or not."
   ]
  },
  {
   "cell_type": "code",
   "execution_count": 1,
   "metadata": {},
   "outputs": [
    {
     "name": "stdout",
     "output_type": "stream",
     "text": [
      "Not prime\n"
     ]
    }
   ],
   "source": [
    "n = int(input())\r\n",
    "d = 2\r\n",
    "flag = False\r\n",
    "while d < n:\r\n",
    "    if(n%d==0):\r\n",
    "        flag = True\r\n",
    "    d = d + 1\r\n",
    "\r\n",
    "if flag:\r\n",
    "    print(\"Not prime\")\r\n",
    "else:\r\n",
    "    print(\"prime\")"
   ]
  },
  {
   "cell_type": "markdown",
   "metadata": {},
   "source": []
  },
  {
   "cell_type": "markdown",
   "metadata": {},
   "source": [
    "### Question 5"
   ]
  },
  {
   "cell_type": "markdown",
   "metadata": {},
   "source": [
    "Check all prime numbers from 2 to n\r\n"
   ]
  },
  {
   "cell_type": "code",
   "execution_count": 3,
   "metadata": {},
   "outputs": [
    {
     "name": "stdout",
     "output_type": "stream",
     "text": [
      "2\n",
      "3\n",
      "5\n",
      "7\n",
      "11\n",
      "13\n",
      "17\n",
      "19\n",
      "23\n",
      "29\n",
      "31\n",
      "37\n",
      "41\n",
      "43\n",
      "47\n",
      "53\n",
      "59\n",
      "61\n",
      "67\n",
      "71\n",
      "73\n",
      "79\n",
      "83\n",
      "89\n",
      "97\n"
     ]
    }
   ],
   "source": [
    "n = int(input())\r\n",
    "k = 2\r\n",
    "\r\n",
    "while(k <= n):\r\n",
    "    d = 2\r\n",
    "    flag = False\r\n",
    "    while (d < k):\r\n",
    "        if(k % d == 0):\r\n",
    "            flag = True\r\n",
    "        d = d + 1\r\n",
    "    if not flag:\r\n",
    "        print(k)\r\n",
    "    k = k + 1"
   ]
  },
  {
   "cell_type": "markdown",
   "metadata": {},
   "source": [
    "### Question 6"
   ]
  },
  {
   "cell_type": "markdown",
   "metadata": {},
   "source": [
    "#### Fahrenheit to Celsius\r\n",
    "\r\n",
    "Given three values - Start Fahrenheit Value (S), End Fahrenheit value (E) and Step Size (W), you need to convert all Fahrenheit values from Start to End at the gap of W, into their corresponding Celsius values and print the table.  \\\r\n",
    "\r\n",
    "Input Format :  \r\n",
    "3 integers - S, E and W respectively   \r\n",
    "\r\n",
    "Output Format :  \r\n",
    "Fahrenheit to Celsius conversion table. One line for every Fahrenheit and corresponding Celsius value. On Fahrenheit value and its corresponding Celsius value should be separate by tab (\"\\t\")  \r\n",
    "\r\n",
    "Constraints :  \r\n",
    "0 <= S <= 80  \r\n",
    "S <= E <=  900  \r\n",
    "0 <= W <= 40   \r\n",
    "\r\n",
    "Sample Input 1:  \r\n",
    "0   \r\n",
    "100   \r\n",
    "20  \r\n",
    "\r\n",
    "Sample Output 1:  \r\n",
    "0   -17  \r\n",
    "20  -6  \r\n",
    "40  4  \r\n",
    "60  15  \r\n",
    "80  26  \r\n",
    "100 37  \r\n",
    "\r\n",
    "Sample Input 2:  \r\n",
    "20  \r\n",
    "119  \r\n",
    "13  \r\n",
    "\r\n",
    "Sample Output 2:  \r\n",
    "20  -6  \r\n",
    "33  0  \r\n",
    "46  7  \r\n",
    "59  15  \r\n",
    "72  22  \r\n",
    "85  29  \r\n",
    "98  36  \r\n",
    "111 43  \r\n",
    "\r\n",
    "*Explanation For Input 2:*  \r\n",
    "We need need to start calculating the Celsius values for each of the Fahrenheit Value which starts from 20. So starting from 20 which is the given Fahrenheit start value, we need to compute its corresponding Celsius value which computes to -6. We print this information as <Fahrenheit Value> a tab space\"\\t\" <Celsius Value> on each line for each step of 13 we take to get the next value of Fahrenheit and extend this idea till we reach the end that is till 119 in this case. You may or may not exactly land on the end value depending on the steps you are taking."
   ]
  },
  {
   "cell_type": "code",
   "execution_count": 3,
   "metadata": {},
   "outputs": [
    {
     "name": "stdout",
     "output_type": "stream",
     "text": [
      "0   -17\n",
      "20   -6\n",
      "40   4\n",
      "60   15\n",
      "80   26\n",
      "100   37\n"
     ]
    }
   ],
   "source": [
    "S = int(input())\r\n",
    "E = int(input())\r\n",
    "W = int(input())\r\n",
    "\r\n",
    "while(S <= E):\r\n",
    "    cel = (S - 32) * 5/9\r\n",
    "    print(S,\" \",int(cel))\r\n",
    "    S = S + W"
   ]
  },
  {
   "cell_type": "markdown",
   "metadata": {},
   "source": [
    "### Questoin 7"
   ]
  },
  {
   "cell_type": "markdown",
   "metadata": {},
   "source": [
    "#### Calculator\r\n",
    "\r\n",
    "Write a program that performs the tasks of a simple calculator. The program should first take an integer as input and then based on that integer perform the task as given below. \r\n",
    "\r\n",
    "1. If the input is 1, then 2 integers are taken from the user and their sum is printed.  \r\n",
    "2. If the input is 2, then 2 integers are taken from the user and their difference(1st number - 2nd number) is printed.  \r\n",
    "3. If the input is 3, then 2 integers are taken from the user and their product is printed.  \r\n",
    "4. If the input is 4, then 2 integers are taken from the user and the quotient obtained (on dividing 1st number by 2nd number) is printed.  \r\n",
    "5. If the input is 5, then 2 integers are taken from the user and their remainder(1st number mod 2nd number) is printed.  \r\n",
    "6. If the input is 6, then the program exits.  \r\n",
    "7. For any other input, then print \"Invalid Operation\".\r\n",
    "\r\n",
    "Note: Each answer in next line.  \r\n",
    "\r\n",
    "Input format:\r\n",
    "Take integers as input, in accordance to the description of the question. \r\n",
    "\r\n",
    "Constraints:\r\n",
    "Time Limit: 1 second\r\n",
    "\r\n",
    "Output format:\r\n",
    "The output lines must be as prescribed in the description of the question.\r\n",
    "\r\n",
    "Sample Input:\r\n",
    "3  \r\n",
    "1  \r\n",
    "2  \r\n",
    "4  \r\n",
    "4  \r\n",
    "2  \r\n",
    "1  \r\n",
    "3  \r\n",
    "2  \r\n",
    "7  \r\n",
    "6  \r\n",
    "\r\n",
    "Sample Output:\r\n",
    "2  \r\n",
    "2  \r\n",
    "5  \r\n",
    "\r\n",
    "Invalid Operation\r\n",
    "Explanation of the sample input\r\n",
    "The first number given is 3, so that means two more numbers will be given and we'll have to multiply them and show the result. The two numbers are 1 and 2. Their product is 2, so 2 is displayed first in the output. Similarly, all the numbers are processed in groups of three. The first number tells the operation and the next two numbers tell on which numbers the operation is done. This applies to numbers from 1 to 5. If the input is 6 (like it is at the end), two more numbers will NOT be provided, you simply have to exit the program. Also, if the input is any number except 1 to 6 (like 7 which is at the second last), then you simply have to print \"Invalid Operation\""
   ]
  },
  {
   "cell_type": "code",
   "execution_count": 25,
   "metadata": {},
   "outputs": [
    {
     "name": "stdout",
     "output_type": "stream",
     "text": [
      "1\n"
     ]
    }
   ],
   "source": [
    "while(1):\r\n",
    "    a = int(input())\r\n",
    "    \r\n",
    "    if (a ==1):\r\n",
    "        x = int(input())\r\n",
    "        y = int(input())\r\n",
    "        print(x+y)\r\n",
    "    elif(a == 2):\r\n",
    "        x = int(input())\r\n",
    "        y = int(input())\r\n",
    "        print(x-y)\r\n",
    "    elif(a == 3):\r\n",
    "        x = int(input())\r\n",
    "        y = int(input())\r\n",
    "        print(x*y)\r\n",
    "    elif(a == 4):\r\n",
    "        x = int(input())\r\n",
    "        y = int(input())\r\n",
    "        print(int(x/y))\r\n",
    "    elif(a == 5):\r\n",
    "        x = int(input())\r\n",
    "        y = int(input())\r\n",
    "        print(x%y)\r\n",
    "    elif(a == 6):\r\n",
    "        break\r\n",
    "    else:\r\n",
    "        print(\"Invalid Operation\")"
   ]
  },
  {
   "cell_type": "markdown",
   "metadata": {},
   "source": [
    "### Question 8"
   ]
  },
  {
   "cell_type": "markdown",
   "metadata": {},
   "source": [
    "Reverse of a number  \r\n",
    "\r\n",
    "Write a program to generate the reverse of a given number N. Print the corresponding reverse number.  \r\n",
    "Note : If a number has trailing zeros, then its reverse will not include them. For e.g., reverse of 10400 will be 401 instead of 00401.  \r\n",
    "\r\n",
    "Input format :  \r\n",
    "Integer N\r\n",
    "\r\n",
    "Output format :  \r\n",
    "Corresponding reverse number\r\n",
    "\r\n",
    "Constraints:  \r\n",
    "0 <= N < 10^8  \r\n",
    "\r\n",
    "Sample Input 1 :  \r\n",
    "1234\r\n",
    "\r\n",
    "Sample Output 1 :  \r\n",
    "4321\r\n",
    "\r\n",
    "Sample Input 2 :  \r\n",
    "1980\r\n",
    "\r\n",
    "Sample Output 2 :  \r\n",
    "891"
   ]
  },
  {
   "cell_type": "code",
   "execution_count": 21,
   "metadata": {},
   "outputs": [
    {
     "name": "stdout",
     "output_type": "stream",
     "text": [
      "891\n"
     ]
    }
   ],
   "source": [
    "def reverse(n):\r\n",
    "    rev = 0\r\n",
    "    while(n > 0):\r\n",
    "        reminder = n % 10\r\n",
    "        rev = (rev * 10) + reminder\r\n",
    "        n = n // 10\r\n",
    "    return rev \r\n",
    "\r\n",
    "\r\n",
    "n=int(input())\r\n",
    "result = reverse(n)\r\n",
    "print(result)"
   ]
  },
  {
   "cell_type": "markdown",
   "metadata": {},
   "source": [
    "### Question 9\r\n"
   ]
  },
  {
   "cell_type": "markdown",
   "metadata": {},
   "source": [
    "#### Palindrome number\r\n",
    "\r\n",
    "Write a program to determine if given number is palindrome or not. Print true if it is palindrome, false otherwise.  \r\n",
    "Palindrome are the numbers for which reverse is exactly same as the original one. For eg. 121  \r\n",
    "\r\n",
    "Sample Input 1 :  \r\n",
    "121  \r\n",
    "Sample Output 1 :  \r\n",
    "true\r\n",
    "\r\n",
    "Sample Input 2 :  \r\n",
    "1032  \r\n",
    "Sample Output 2 :  \r\n",
    "false"
   ]
  },
  {
   "cell_type": "code",
   "execution_count": 26,
   "metadata": {},
   "outputs": [
    {
     "name": "stdout",
     "output_type": "stream",
     "text": [
      "false\n"
     ]
    }
   ],
   "source": [
    "def checkPalindrome(num):\r\n",
    "    temp = num\r\n",
    "    rev = 0\r\n",
    "    while(num > 0):\r\n",
    "        reminder = num % 10\r\n",
    "        rev = (rev * 10) + reminder\r\n",
    "        num = num // 10\r\n",
    "        \r\n",
    "    if (temp == rev):\r\n",
    "        return True\r\n",
    "    else:\r\n",
    "        return False\r\n",
    "     \r\n",
    "     \r\n",
    "num = int(input())\r\n",
    "isPalindrome = checkPalindrome(num)\r\n",
    "if(isPalindrome):\r\n",
    "\tprint('true')\r\n",
    "else:\r\n",
    "\tprint('false')\r\n"
   ]
  },
  {
   "cell_type": "markdown",
   "metadata": {},
   "source": [
    "### Question 10\r\n"
   ]
  },
  {
   "cell_type": "markdown",
   "metadata": {},
   "source": [
    "#### Sum of even & odd\r\n",
    "\r\n",
    "Write a program to input an integer N and print the sum of all its even digits and sum of all its odd digits separately.  \r\n",
    "Digits mean numbers, not the places! That is, if the given integer is \"13245\", even digits are 2 & 4 and odd digits are 1, 3 & 5.  \r\n",
    "\r\n",
    "Input format :\r\n",
    " Integer N\r\n",
    "\r\n",
    "Output format :\r\n",
    "Sum_of_Even_Digits Sum_of_Odd_Digits\r\n",
    "(Print first even sum and then odd sum separated by space)\r\n",
    "\r\n",
    "Constraints\r\n",
    "0 <= N <= 10^8\r\n",
    "\r\n",
    "Sample Input 1:  \r\n",
    "1234  \r\n",
    "Sample Output 1:  \r\n",
    "6 4\r\n",
    "\r\n",
    "Sample Input 2:  \r\n",
    "552245  \r\n",
    "Sample Output 2:  \r\n",
    "8 15\r\n",
    "\r\n",
    "Explanation for Input 2:  \r\n",
    "For the given input, the even digits are 2, 2 and 4 and if we take the sum of these digits it will come out to be 8(2 + 2 + 4) and similarly, if we look at the odd digits, they are, 5, 5 and 5 which makes a sum of 15(5 + 5 + 5). Hence the answer would be, 8(evenSum) <single space> 15(oddSum)"
   ]
  },
  {
   "cell_type": "code",
   "execution_count": 16,
   "metadata": {},
   "outputs": [
    {
     "name": "stdout",
     "output_type": "stream",
     "text": [
      "8   15\n"
     ]
    }
   ],
   "source": [
    "N = int(input())\r\n",
    "# To parse through the whole string.\r\n",
    "#remember to keep initialization such as even and odd here outside the loop.\r\n",
    "even = 0\r\n",
    "odd = 0\r\n",
    "while(N > 0):\r\n",
    "    rem = N % 10\r\n",
    "    N = N // 10\r\n",
    "    if (rem % 2 == 0):\r\n",
    "        even = even + rem\r\n",
    "    else:\r\n",
    "        odd = odd + rem    \r\n",
    "print(even,\" \", odd)\r\n",
    "    "
   ]
  },
  {
   "cell_type": "markdown",
   "metadata": {},
   "source": [
    "### Question 11"
   ]
  },
  {
   "cell_type": "markdown",
   "metadata": {},
   "source": [
    "#### Nth Fibonacci Number\r\n",
    "\r\n",
    "Nth term of Fibonacci series F(n), where F(n) is a function, is calculated using the following formula -  \r\n",
    "    F(n) = F(n-1) + F(n-2),   \r\n",
    "    Where, F(1) = F(2) = 1  \r\n",
    "Provided N you have to find out the Nth Fibonacci Number.  \r\n",
    "\r\n",
    "Input Format :  \r\n",
    "The first line of each test case contains a real number ‘N’.  \r\n",
    "Output Format :  \r\n",
    "For each test case, return its equivalent Fibonacci number.  \r\n",
    "Constraints:  \r\n",
    "1 <= N <= 10000       \r\n",
    "Where ‘N’ represents the number for which we have to find its equivalent Fibonacci number.  \r\n",
    "\r\n",
    "Time Limit: 1 second  \r\n",
    "Sample Input 1:  \r\n",
    "6  \r\n",
    "Sample Output 1:  \r\n",
    "8  \r\n",
    "\r\n",
    "Explanation of Sample Input 1:  \r\n",
    "Now the number is ‘6’ so we have to find the “6th” Fibonacci number  \r\n",
    "So by using the property of the Fibonacci series i.e   \r\n",
    "\r\n",
    "[ 1, 1, 2, 3, 5, 8]  \r\n",
    "So the “6th” element is “8” hence we get the output."
   ]
  },
  {
   "cell_type": "code",
   "execution_count": 2,
   "metadata": {},
   "outputs": [
    {
     "name": "stdout",
     "output_type": "stream",
     "text": [
      "8\n"
     ]
    }
   ],
   "source": [
    "N = int(input())\n",
    "N1 = 0\n",
    "N2 = 1\n",
    "i = 1\n",
    "if(N == 1):\n",
    "    print(1)\n",
    "else:\n",
    "    while(i<N):\n",
    "        Nth = N1 +N2\n",
    "        N1 = N2\n",
    "        N2 = Nth\n",
    "        i += 1\n",
    "    print(Nt) \n",
    "    "
   ]
  },
  {
   "cell_type": "code",
   "execution_count": 1,
   "metadata": {},
   "outputs": [
    {
     "name": "stdout",
     "output_type": "stream",
     "text": [
      "8\n"
     ]
    }
   ],
   "source": [
    "n = int(input())\r\n",
    "a = 0\r\n",
    "b = 1\r\n",
    "\r\n",
    "c = -1\r\n",
    "for i in range(n):\r\n",
    "    c = a + b\r\n",
    "    a = b\r\n",
    "    b = c\r\n",
    "print(a)"
   ]
  },
  {
   "cell_type": "markdown",
   "metadata": {},
   "source": [
    "## Patterns 1"
   ]
  },
  {
   "cell_type": "markdown",
   "metadata": {},
   "source": [
    "### Example"
   ]
  },
  {
   "cell_type": "markdown",
   "metadata": {},
   "source": [
    "'****  \n",
    "'****  \n",
    "'****  \n",
    "'****  "
   ]
  },
  {
   "cell_type": "code",
   "execution_count": 9,
   "metadata": {},
   "outputs": [
    {
     "name": "stdout",
     "output_type": "stream",
     "text": [
      "**\n",
      "**\n"
     ]
    }
   ],
   "source": [
    "n = int(input())\n",
    "i = 1\n",
    "while i <= n:\n",
    "    j = 1\n",
    "    while j <= n:\n",
    "        print(\"*\",end=\"\")\n",
    "        j = j + 1\n",
    "    print()\n",
    "    i = i + 1\n"
   ]
  },
  {
   "cell_type": "markdown",
   "metadata": {},
   "source": [
    "### Questoin 1"
   ]
  },
  {
   "cell_type": "markdown",
   "metadata": {},
   "source": [
    "Code : Square Pattern\n",
    "\n",
    "Print the following pattern for the given N number of rows.\n",
    "Pattern for N = 4  \n",
    "4444  \n",
    "4444  \n",
    "4444  \n",
    "4444  \n",
    "\n",
    "Input format :  \n",
    "Integer N (Total no. of rows)  \n",
    "\n",
    "Output format :\n",
    "Pattern in N lines\n",
    "\n",
    "Constraints  \n",
    "0 <= N <= 50  \n",
    "\n",
    "Sample Input 1:    \n",
    "7  \n",
    "Sample Output 1:  \n",
    "7777777  \n",
    "7777777  \n",
    "7777777  \n",
    "7777777  \n",
    "7777777  \n",
    "7777777  \n",
    "7777777  \n",
    "\n",
    "Sample Input 1:  \n",
    "6\n",
    "\n",
    "Sample Output 1:  \n",
    "666666  \n",
    "666666  \n",
    "666666  \n",
    "666666  \n",
    "666666  \n",
    "666666  "
   ]
  },
  {
   "cell_type": "code",
   "execution_count": 21,
   "metadata": {},
   "outputs": [
    {
     "name": "stdout",
     "output_type": "stream",
     "text": [
      "1111\n",
      "2222\n",
      "3333\n",
      "4444\n"
     ]
    }
   ],
   "source": [
    "N = int(input())\n",
    "i = 1\n",
    "while i <= N:\n",
    "    j = 1\n",
    "    while j <= N:\n",
    "        print(N,end = '')\n",
    "        j = j+1\n",
    "    print()\n",
    "    i +=1"
   ]
  },
  {
   "cell_type": "markdown",
   "metadata": {},
   "source": [
    "### Square patterns"
   ]
  },
  {
   "cell_type": "code",
   "execution_count": 22,
   "metadata": {},
   "outputs": [
    {
     "name": "stdout",
     "output_type": "stream",
     "text": [
      "1111\n",
      "2222\n",
      "3333\n",
      "4444\n"
     ]
    }
   ],
   "source": [
    "N = int(input())\n",
    "i = 1\n",
    "while i<= N:\n",
    "    j = 1\n",
    "    while j <= N:\n",
    "        print(i,end='')\n",
    "        j += 1\n",
    "    print()\n",
    "    i += 1"
   ]
  },
  {
   "cell_type": "code",
   "execution_count": 23,
   "metadata": {},
   "outputs": [
    {
     "name": "stdout",
     "output_type": "stream",
     "text": [
      "1234\n",
      "1234\n",
      "1234\n",
      "1234\n"
     ]
    }
   ],
   "source": [
    "N = int(input())\n",
    "i = 1\n",
    "while i<= N:\n",
    "    j = 1\n",
    "    while j <= N:\n",
    "        print(j,end='')\n",
    "        j += 1\n",
    "    print()\n",
    "    i += 1"
   ]
  },
  {
   "cell_type": "code",
   "execution_count": 24,
   "metadata": {},
   "outputs": [
    {
     "name": "stdout",
     "output_type": "stream",
     "text": [
      "4321\n",
      "4321\n",
      "4321\n",
      "4321\n"
     ]
    }
   ],
   "source": [
    "N = int(input())\n",
    "i = 1\n",
    "while i<= N:\n",
    "    j = 1\n",
    "    while j <= N:\n",
    "        print(N- j + 1,end='')\n",
    "        j += 1\n",
    "    print()\n",
    "    i += 1"
   ]
  },
  {
   "cell_type": "markdown",
   "metadata": {},
   "source": [
    "### Triangle Pattern"
   ]
  },
  {
   "cell_type": "code",
   "execution_count": 27,
   "metadata": {},
   "outputs": [
    {
     "name": "stdout",
     "output_type": "stream",
     "text": [
      "1\n",
      "12\n",
      "123\n",
      "1234\n"
     ]
    }
   ],
   "source": [
    "N = int(input())\n",
    "i = 1\n",
    "while i<= N:\n",
    "    j = 1\n",
    "    while j <= i:\n",
    "        print(j,end='')\n",
    "        j += 1\n",
    "    print()\n",
    "    i += 1"
   ]
  },
  {
   "cell_type": "code",
   "execution_count": 29,
   "metadata": {},
   "outputs": [
    {
     "name": "stdout",
     "output_type": "stream",
     "text": [
      "1\n",
      "23\n",
      "345\n",
      "4567\n"
     ]
    }
   ],
   "source": [
    "n = int(input())\n",
    "i = 1\n",
    "while i <= n:\n",
    "    j = 1\n",
    "    p = i\n",
    "    while j <= i:\n",
    "        print(p, end=\"\")\n",
    "        j = j+1\n",
    "        p = p+1\n",
    "    print()\n",
    "    i = i + 1  \n",
    "        "
   ]
  },
  {
   "cell_type": "code",
   "execution_count": 36,
   "metadata": {},
   "outputs": [
    {
     "name": "stdout",
     "output_type": "stream",
     "text": [
      "1\n",
      "23\n",
      "456\n",
      "78910\n"
     ]
    }
   ],
   "source": [
    "# In previos question we reset p now we have it globally\n",
    "n = int(input())\n",
    "i =1\n",
    "p =1\n",
    "while i<=n:\n",
    "    j =1\n",
    "    while j <=i:\n",
    "        print(p,end ='')\n",
    "        p = p +1\n",
    "        j =j+1\n",
    "    print()\n",
    "    i = i + 1"
   ]
  },
  {
   "cell_type": "markdown",
   "metadata": {},
   "source": [
    "### Question 2"
   ]
  },
  {
   "cell_type": "markdown",
   "metadata": {},
   "source": [
    "Code : Triangular Star Pattern  \n",
    "\n",
    "Print the following pattern for the given N number of rows.  \n",
    "Pattern for N = 4  \n",
    "'*  \n",
    "'**  \n",
    "'***  \n",
    "'****  \n",
    "\n",
    "Note : There are no spaces between the stars (*).\n",
    "\n",
    "Input format :\n",
    "Integer N (Total no. of rows)\n",
    "\n",
    "Output format :\n",
    "Pattern in N lines\n",
    "\n",
    "Constraints\n",
    "0 <= N <= 50\n",
    "\n",
    "Sample Input 1:  \n",
    "5  \n",
    "Sample Output 1:  \n",
    "'*  \n",
    "'**  \n",
    "'***  \n",
    "'****  \n",
    "'*****  \n",
    "Sample Input 2:  \n",
    "6  \n",
    "Sample Output 2:  \n",
    "'*  \n",
    "'**  \n",
    "'***  \n",
    "'****  \n",
    "'*****  \n",
    "'******"
   ]
  },
  {
   "cell_type": "code",
   "execution_count": 37,
   "metadata": {},
   "outputs": [
    {
     "name": "stdout",
     "output_type": "stream",
     "text": [
      "*\n",
      "**\n",
      "***\n",
      "****\n"
     ]
    }
   ],
   "source": [
    "n = int(input())\n",
    "i = 1\n",
    "while i <= n:\n",
    "    j = 1\n",
    "    while j <= i:\n",
    "        print(\"*\", end='')\n",
    "        j += 1\n",
    "    print()\n",
    "    i += 1\n",
    "\n",
    "    "
   ]
  },
  {
   "cell_type": "markdown",
   "metadata": {},
   "source": [
    "### Question 3"
   ]
  },
  {
   "cell_type": "markdown",
   "metadata": {},
   "source": [
    "Code : Triangle Number Pattern\n",
    "\n",
    "Print the following pattern for the given N number of rows.  \n",
    "Pattern for N = 4  \n",
    "\n",
    "1  \n",
    "22  \n",
    "333  \n",
    "4444  \n",
    "\n",
    "Input format :  \n",
    "Integer N (Total no. of rows)\n",
    "\n",
    "Output format : \n",
    "Pattern in N lines  \n",
    "\n",
    "Constraints \n",
    "0 <= N <= 50\n",
    "\n",
    "Sample Input 1: \n",
    "5   \n",
    "Sample Output 1:  \n",
    "\n",
    "1   \n",
    "22  \n",
    "333  \n",
    "4444    \n",
    "55555   \n",
    "\n",
    "Sample Input 2: \n",
    "6   \n",
    "Sample Output 2:  \n",
    "  \n",
    "1   \n",
    "22  \n",
    "333  \n",
    "4444    \n",
    "55555   \n",
    "666666  "
   ]
  },
  {
   "cell_type": "code",
   "execution_count": 38,
   "metadata": {},
   "outputs": [
    {
     "name": "stdout",
     "output_type": "stream",
     "text": [
      "1\n",
      "22\n",
      "333\n",
      "4444\n"
     ]
    }
   ],
   "source": [
    "n = int(input())\n",
    "i =1\n",
    "while i <= n:\n",
    "    j = 1\n",
    "    while j <= i:\n",
    "        print(i,end='')\n",
    "        j += 1\n",
    "    print()\n",
    "    i +=1"
   ]
  },
  {
   "cell_type": "markdown",
   "metadata": {},
   "source": [
    "Code : Reverse Number Pattern\n",
    "\n",
    "Print the following pattern for the given N number of rows. \n",
    "Pattern for N = 4   \n",
    "\n",
    "1   \n",
    "21  \n",
    "321 \n",
    "4321    \n",
    "\n",
    "Input format :  \n",
    "Integer N (Total no. of rows)\n",
    "\n",
    "Output format :\n",
    "Pattern in N lines  \n",
    "\n",
    "Constraints  \n",
    "0 <= N <= 50  \n",
    "\n",
    "Sample Input 1:  \n",
    "5  \n",
    "Sample Output 1:  \n",
    "\n",
    "1  \n",
    "21  \n",
    "321  \n",
    "4321    \n",
    "54321   \n",
    "Sample Input 2:  \n",
    "6   \n",
    "Sample Output 2:    \n",
    "1   \n",
    "21  \n",
    "321  \n",
    "4321    \n",
    "54321   \n",
    "654321  "
   ]
  },
  {
   "cell_type": "markdown",
   "metadata": {},
   "source": [
    "### Question 4"
   ]
  },
  {
   "cell_type": "code",
   "execution_count": 42,
   "metadata": {},
   "outputs": [
    {
     "name": "stdout",
     "output_type": "stream",
     "text": [
      "1\n",
      "21\n",
      "321\n",
      "4321\n",
      "54321\n",
      "654321\n"
     ]
    }
   ],
   "source": [
    "n = int(input())\n",
    "i =1\n",
    "while i <= n:\n",
    "    j = 1\n",
    "    p = i\n",
    "    while j <= i:\n",
    "        print(p,end='')\n",
    "        j += 1\n",
    "        p = p -1\n",
    "    print()\n",
    "    i +=1"
   ]
  },
  {
   "cell_type": "markdown",
   "metadata": {},
   "source": [
    "### Printing kth term"
   ]
  },
  {
   "cell_type": "code",
   "execution_count": 26,
   "metadata": {},
   "outputs": [
    {
     "name": "stdout",
     "output_type": "stream",
     "text": [
      "E\n"
     ]
    }
   ],
   "source": [
    "k = int (input())\n",
    "# 'A' +k - 1\n",
    "x = ord ('A')\n",
    "assci_target = x +  k - 1\n",
    "target_char = chr(assci_target)\n",
    "print (target_char)"
   ]
  },
  {
   "cell_type": "markdown",
   "metadata": {},
   "source": [
    "ABCD    \n",
    "ABCD    \n",
    "ABCD    \n",
    "ABCD"
   ]
  },
  {
   "cell_type": "code",
   "execution_count": 15,
   "metadata": {},
   "outputs": [
    {
     "name": "stdout",
     "output_type": "stream",
     "text": [
      "ABCD\n",
      "ABCD\n",
      "ABCD\n",
      "ABCD\n"
     ]
    }
   ],
   "source": [
    "n = int(input())\n",
    "i = 1\n",
    "while (i <= n):\n",
    "    j = 1\n",
    "    while( j <= n):\n",
    "        charP = chr(ord('A') + j - 1) # to get the character.\n",
    "        print(charP,end='')\n",
    "        j += 1\n",
    "    print()\n",
    "    i += 1"
   ]
  },
  {
   "cell_type": "markdown",
   "metadata": {},
   "source": [
    "ABCD    \n",
    "BCDE    \n",
    "CDEF    \n",
    "DEFG"
   ]
  },
  {
   "cell_type": "code",
   "execution_count": 47,
   "metadata": {},
   "outputs": [
    {
     "name": "stdout",
     "output_type": "stream",
     "text": [
      "ABCD\n",
      "BCDE\n",
      "CDEF\n",
      "DEFG\n"
     ]
    }
   ],
   "source": [
    "n = int(input())\n",
    "i = 1\n",
    "while (i <= n):\n",
    "    j = 1\n",
    "    start_char = chr(ord('A') + i - 1)\n",
    "    while( j <= n):\n",
    "        charP = chr(ord(start_char) + j - 1) # to get the character.\n",
    "        print(charP,end='')\n",
    "        j += 1\n",
    "    print()\n",
    "    i += 1"
   ]
  },
  {
   "cell_type": "markdown",
   "metadata": {},
   "source": [
    "### Question 5"
   ]
  },
  {
   "cell_type": "markdown",
   "metadata": {},
   "source": [
    "#### Character Pattern\n",
    "\n",
    "Print the following pattern for the given N number of rows.  \n",
    "Pattern for N = 4  \n",
    "\n",
    "A   \n",
    "BC  \n",
    "CDE    \n",
    "DEFG  \n",
    "\n",
    "Input format :      \n",
    "Integer N (Total no. of rows)   \n",
    "\n",
    "Output format : \n",
    "Pattern in N lines\n",
    "\n",
    "Constraints \n",
    "0 <= N <= 13\n",
    "\n",
    "Sample Input 1: \n",
    "5   \n",
    "Sample Output 1:   \n",
    "\n",
    "A   \n",
    "BC  \n",
    "CDE  \n",
    "DEFG    \n",
    "EFGHI   \n",
    "\n",
    "Sample Input 2:   \n",
    "6   \n",
    "\n",
    "Sample Output 2:    \n",
    "\n",
    "A   \n",
    "BC  \n",
    "CDE  \n",
    "DEFG    \n",
    "EFGHI   \n",
    "FGHIJK   "
   ]
  },
  {
   "cell_type": "code",
   "execution_count": 13,
   "metadata": {},
   "outputs": [
    {
     "name": "stdout",
     "output_type": "stream",
     "text": [
      "A\n",
      "BC\n",
      "CDE\n",
      "DEFG\n"
     ]
    }
   ],
   "source": [
    "n = int(input())\n",
    "i = 1\n",
    "while i <= n :\n",
    "    j = 1\n",
    "    start_char = chr(ord('A') + i -1)\n",
    "     \n",
    "    while j <= i:\n",
    "        charP = chr(ord(start_char) + j -1)\n",
    "        print(charP, end = '')\n",
    "        j += 1\n",
    "    print()\n",
    "    i += 1\n",
    "    "
   ]
  },
  {
   "cell_type": "code",
   "execution_count": 44,
   "metadata": {},
   "outputs": [
    {
     "name": "stdout",
     "output_type": "stream",
     "text": [
      "A\n",
      "BC\n",
      "CDE\n",
      "DEFG\n"
     ]
    }
   ],
   "source": [
    "# Same solution can also be done by no chr in earlier stages\n",
    "n = int(input()) \n",
    "currRow = 1 \n",
    "while currRow <= n:\n",
    "    currCol = 1 \n",
    "    ch = ord('A') + currRow - 1 \n",
    "    while currCol <= currRow: \n",
    "        print(chr(ch + currCol - 1), end = \"\")\n",
    "        currCol += 1 \n",
    "    print() \n",
    "    currRow += 1"
   ]
  },
  {
   "cell_type": "markdown",
   "metadata": {},
   "source": [
    "### Question 6"
   ]
  },
  {
   "cell_type": "markdown",
   "metadata": {},
   "source": [
    "#### Pattern for N = 5  \n",
    "\n",
    "E  \n",
    "DE  \n",
    "CDE  \n",
    "BCDE  \n",
    "ABCDE"
   ]
  },
  {
   "cell_type": "code",
   "execution_count": 36,
   "metadata": {},
   "outputs": [
    {
     "name": "stdout",
     "output_type": "stream",
     "text": [
      "E\n",
      "DE\n",
      "CDE\n",
      "BCDE\n",
      "ABCDE\n"
     ]
    }
   ],
   "source": [
    "n = int(input())\n",
    "i = 1\n",
    "while i <= n :\n",
    "    j = 1\n",
    "    start_char = chr(ord('A') + n -1)\n",
    "     \n",
    "    while j <= i:\n",
    "        charP = chr(ord(start_char)-i +j)\n",
    "        print(charP, end = '')\n",
    "        j += 1\n",
    "    print()\n",
    "    i += 1"
   ]
  },
  {
   "cell_type": "code",
   "execution_count": 43,
   "metadata": {},
   "outputs": [
    {
     "name": "stdout",
     "output_type": "stream",
     "text": [
      "E\n",
      "DE\n",
      "CDE\n",
      "BCDE\n",
      "ABCDE\n"
     ]
    }
   ],
   "source": [
    "n = int(input())\n",
    "i = 1 \n",
    "while i <= n:\n",
    "    j =1\n",
    "    ch = ord('A') + n - i\n",
    "    while j <=i:\n",
    "        print(chr(ch+j-1), end ='')\n",
    "        j +=1   \n",
    "    print()\n",
    "    i +=1"
   ]
  },
  {
   "cell_type": "markdown",
   "metadata": {},
   "source": [
    "### Question 7"
   ]
  },
  {
   "cell_type": "markdown",
   "metadata": {},
   "source": [
    "#### Number Pattern 1\n",
    "\n",
    "Print the following pattern for the given N number of rows.  \n",
    "Pattern for N = 4  \n",
    "1  \n",
    "11   \n",
    "111   \n",
    "1111 "
   ]
  },
  {
   "cell_type": "code",
   "execution_count": 48,
   "metadata": {},
   "outputs": [
    {
     "name": "stdout",
     "output_type": "stream",
     "text": [
      "1\n",
      "11\n",
      "111\n",
      "1111\n"
     ]
    }
   ],
   "source": [
    "n = int(input())\n",
    "i = 1\n",
    "while i<=n:\n",
    "    j = 1\n",
    "    while j<=i:\n",
    "        print('1',end='')\n",
    "        j +=1\n",
    "    print()\n",
    "    i +=1"
   ]
  },
  {
   "cell_type": "markdown",
   "metadata": {},
   "source": [
    "### Question 8"
   ]
  },
  {
   "cell_type": "markdown",
   "metadata": {},
   "source": [
    "Number Pattern 2\n",
    "\n",
    "Print the following pattern for the given N number of rows.  \n",
    "Pattern for N = 4\n",
    "\n",
    "1  \n",
    "11  \n",
    "121  \n",
    "1221  \n",
    "\n",
    "Input format :  \n",
    "Integer N (Total no. of rows)\n",
    "\n",
    "Output format : \n",
    "Pattern in N lines\n",
    "\n",
    "Sample Input :  \n",
    "5 \n",
    "\n",
    "Sample Output :  \n",
    "1  \n",
    "11  \n",
    "121  \n",
    "1221  \n",
    "12221  \n"
   ]
  },
  {
   "cell_type": "code",
   "execution_count": 11,
   "metadata": {},
   "outputs": [
    {
     "name": "stdout",
     "output_type": "stream",
     "text": [
      "1\n",
      "11\n",
      "121\n",
      "1221\n",
      "12221\n",
      "122221\n"
     ]
    }
   ],
   "source": [
    "n = int(input())\n",
    "i = 1\n",
    "print(\"1\")\n",
    "while (i <=n-1):\n",
    "    j = 1\n",
    "    print(\"1\",end = '')\n",
    "    while (j<= i-1):\n",
    "        print(\"2\",end = '')\n",
    "        j +=1\n",
    "    print(\"1\", end = '')\n",
    "    print()\n",
    "    i +=1\n"
   ]
  },
  {
   "cell_type": "code",
   "execution_count": 12,
   "metadata": {},
   "outputs": [
    {
     "name": "stdout",
     "output_type": "stream",
     "text": [
      "1\n",
      "11\n",
      "121\n",
      "1221\n"
     ]
    }
   ],
   "source": [
    "n = int(input())\n",
    "i = 0\n",
    "while (i <n):\n",
    "    j = 0\n",
    "    while (j <i+1):\n",
    "        if(j ==0 or j ==i):\n",
    "            print(1,end='')\n",
    "        else:\n",
    "            print(2,end ='')\n",
    "        j += 1\n",
    "    print()\n",
    "    i+=1\n",
    "    "
   ]
  },
  {
   "cell_type": "markdown",
   "metadata": {},
   "source": [
    "### Question 9\n"
   ]
  },
  {
   "cell_type": "markdown",
   "metadata": {},
   "source": [
    "Number Pattern 3\n",
    "\n",
    "Print the following pattern for the given N number of rows.  \n",
    "Pattern for N = 4  \n",
    "1  \n",
    "11  \n",
    "202  \n",
    "3003    \n",
    "\n",
    "Input format :  \n",
    "Integer N (Total no. of rows)\n",
    "\n",
    "Contraints:  \n",
    "1 <= n <= 50\n",
    "\n",
    "Output format :  \n",
    "Pattern in N lines\n",
    "\n",
    "Sample Input :  \n",
    "5\n",
    "\n",
    "Sample Output :  \n",
    "1  \n",
    "11  \n",
    "202  \n",
    "3003  \n",
    "40004"
   ]
  },
  {
   "cell_type": "code",
   "execution_count": 2,
   "metadata": {},
   "outputs": [
    {
     "name": "stdout",
     "output_type": "stream",
     "text": [
      "1\n",
      "11\n",
      "202\n",
      "3003\n",
      "40004\n"
     ]
    }
   ],
   "source": [
    "n = int(input())\n",
    "i = 1\n",
    "print(\"1\")\n",
    "while (i <=n-1):\n",
    "    j = 1\n",
    "    print(i,end = '')\n",
    "    while (j<= i-1):\n",
    "        print(\"0\",end = '')\n",
    "        j +=1\n",
    "    print(i, end = '')\n",
    "    print()\n",
    "    i +=1"
   ]
  },
  {
   "cell_type": "code",
   "execution_count": 5,
   "metadata": {},
   "outputs": [
    {
     "name": "stdout",
     "output_type": "stream",
     "text": [
      "1\n",
      "11\n",
      "202\n",
      "3003\n",
      "40004\n"
     ]
    }
   ],
   "source": [
    "n = int(input())\n",
    "print('1')\n",
    "i = 1\n",
    "while (i <n):\n",
    "    j = 0\n",
    "    while (j <i+1):\n",
    "        if(j ==0 or j ==i):\n",
    "            print(i,end='')\n",
    "        else:\n",
    "            print(0,end ='')\n",
    "        j += 1\n",
    "    print()\n",
    "    i+=1"
   ]
  },
  {
   "cell_type": "markdown",
   "metadata": {},
   "source": [
    "### Question 10"
   ]
  },
  {
   "cell_type": "markdown",
   "metadata": {},
   "source": [
    "Number Pattern\n",
    "\n",
    "Print the following pattern for the given N number of rows.  \n",
    "Pattern for N = 4  \n",
    "\n",
    "1234  \n",
    "123  \n",
    "12  \n",
    "1  \n",
    "\n",
    "Input format :  \n",
    "Integer N (Total no. of rows)\n",
    "\n",
    "Output format :  \n",
    "Pattern in N lines\n",
    "\n",
    "Sample Input :  \n",
    "5\n",
    "\n",
    "Sample Output :\n",
    "\n",
    "12345  \n",
    "1234  \n",
    "123  \n",
    "12  \n",
    "1  "
   ]
  },
  {
   "cell_type": "code",
   "execution_count": 50,
   "metadata": {},
   "outputs": [
    {
     "name": "stdout",
     "output_type": "stream",
     "text": [
      "1234\n",
      "123\n",
      "12\n",
      "1\n"
     ]
    }
   ],
   "source": [
    "n = int(input())\n",
    "i = 1\n",
    "while i<=n:\n",
    "    j = 1\n",
    "    while j<=(n-i+1):\n",
    "        print(j,end='') \n",
    "        j +=1\n",
    "    print()\n",
    "    i +=1"
   ]
  },
  {
   "cell_type": "markdown",
   "metadata": {},
   "source": [
    "### Questoin 11"
   ]
  },
  {
   "cell_type": "markdown",
   "metadata": {},
   "source": [
    "Alpha Pattern\n",
    "\n",
    "Print the following pattern for the given N number of rows.  \n",
    "Pattern for N = 3  \n",
    "\n",
    " A  \n",
    " BB  \n",
    " CCC\n",
    "\n",
    "Input format :  \n",
    "Integer N (Total no. of rows)\n",
    "\n",
    "Output format :  \n",
    "Pattern in N lines\n",
    "\n",
    "Constraints  \n",
    "0 <= N <= 26\n",
    "\n",
    "Sample Input 1:  \n",
    "7\n",
    "\n",
    "Sample Output 1:  \n",
    "\n",
    "A  \n",
    "BB  \n",
    "CCC  \n",
    "DDDD  \n",
    "EEEEE  \n",
    "FFFFFF  \n",
    "GGGGGGG  \n",
    "\n",
    "Sample Input 2:  \n",
    "6\n",
    "\n",
    "Sample Output 2:  \n",
    "\n",
    "A  \n",
    "BB  \n",
    "CCC  \n",
    "DDDD  \n",
    "EEEEE  \n",
    "FFFFFF  "
   ]
  },
  {
   "cell_type": "code",
   "execution_count": 9,
   "metadata": {},
   "outputs": [
    {
     "name": "stdout",
     "output_type": "stream",
     "text": [
      "A\n",
      "BB\n",
      "CCC\n",
      "DDDD\n"
     ]
    }
   ],
   "source": [
    "n = int(input())\n",
    "i = 1\n",
    "while (i <=n):\n",
    "    start_char = chr(ord('A') + i -1)\n",
    "    j =1\n",
    "    while (j <=i):\n",
    "        print(start_char,end='')\n",
    "        j += 1\n",
    "    print()\n",
    "    i += 1"
   ]
  },
  {
   "cell_type": "markdown",
   "metadata": {},
   "source": [
    "## Patterns 2"
   ]
  }
 ],
 "metadata": {
  "interpreter": {
   "hash": "682cbd65bec36bb5780b3cd03d8f98f09d815121554481962b3929c5a83bba13"
  },
  "kernelspec": {
   "display_name": "Python 3.8.5 64-bit ('base': conda)",
   "name": "python3"
  },
  "language_info": {
   "codemirror_mode": {
    "name": "ipython",
    "version": 3
   },
   "file_extension": ".py",
   "mimetype": "text/x-python",
   "name": "python",
   "nbconvert_exporter": "python",
   "pygments_lexer": "ipython3",
   "version": "3.8.5"
  },
  "orig_nbformat": 2
 },
 "nbformat": 4,
 "nbformat_minor": 2
}