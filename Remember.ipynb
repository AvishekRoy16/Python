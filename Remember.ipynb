{
 "cells": [
  {
   "cell_type": "markdown",
   "source": [
    "# Important things to remember"
   ],
   "metadata": {}
  },
  {
   "cell_type": "markdown",
   "source": [
    "## Input of a 2D list"
   ],
   "metadata": {}
  },
  {
   "cell_type": "markdown",
   "source": [
    "<pre>\r\n",
    "the input is given as\r\n",
    "3 4\r\n",
    "1 2 3 4 \r\n",
    "5 6 7 8\r\n",
    "9 10 11 12\r\n",
    "</pre>"
   ],
   "metadata": {}
  },
  {
   "cell_type": "code",
   "execution_count": 2,
   "source": [
    "# Input of n,m\r\n",
    "str = input().split()\r\n",
    "n,m = int(str[0]), int(str[1])\r\n",
    "# Input of the 2D List\r\n",
    "li = [[int(j) for j in input().split()] for i in range(n)]\r\n",
    "li"
   ],
   "outputs": [
    {
     "output_type": "execute_result",
     "data": {
      "text/plain": [
       "[[1, 2, 3, 4], [5, 6, 7, 8], [9, 10, 11, 12]]"
      ]
     },
     "metadata": {},
     "execution_count": 2
    }
   ],
   "metadata": {}
  },
  {
   "cell_type": "code",
   "execution_count": null,
   "source": [],
   "outputs": [],
   "metadata": {}
  }
 ],
 "metadata": {
  "orig_nbformat": 4,
  "language_info": {
   "name": "python"
  }
 },
 "nbformat": 4,
 "nbformat_minor": 2
}