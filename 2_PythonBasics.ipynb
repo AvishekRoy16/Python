{
 "cells": [
  {
   "cell_type": "markdown",
   "metadata": {},
   "source": [
    "# Python Basics 2"
   ]
  },
  {
   "cell_type": "markdown",
   "metadata": {},
   "source": [
    "## Contents:\r\n",
    "* Functions\r\n",
    "* Lists"
   ]
  },
  {
   "cell_type": "markdown",
   "metadata": {},
   "source": [
    "## Functions"
   ]
  },
  {
   "cell_type": "markdown",
   "metadata": {},
   "source": [
    "### Introduction"
   ]
  },
  {
   "cell_type": "code",
   "execution_count": 112,
   "metadata": {},
   "outputs": [
    {
     "name": "stdout",
     "output_type": "stream",
     "text": [
      "6\n"
     ]
    }
   ],
   "source": [
    "# Programme to choose N objects out of R -nCr\n",
    "n = int(input())\n",
    "r = int(input())\n",
    "\n",
    "n_fact = 1\n",
    "for i in range(1,n+1):\n",
    "    n_fact = n_fact * i\n",
    "\n",
    "r_fact = 1\n",
    "for i in range(1,r+1):\n",
    "    r_fact = r_fact * i\n",
    "\n",
    "n_r_fact = 1\n",
    "for i in range(1,n-r+1):\n",
    "    n_r_fact = n_r_fact * i\n",
    "\n",
    "ans = n_fact//(r_fact * n_r_fact)\n",
    "print(ans)\n",
    "\n"
   ]
  },
  {
   "cell_type": "code",
   "execution_count": null,
   "metadata": {},
   "outputs": [],
   "source": [
    "# Creating a function so that we do not repeat the code again and again\n",
    "def fact(n):\n",
    "    n_fact = 1\n",
    "    for i in range(1,n+1):\n",
    "        n_fact = n_fact * i\n",
    "    return n_fact"
   ]
  },
  {
   "cell_type": "code",
   "execution_count": null,
   "metadata": {},
   "outputs": [
    {
     "name": "stdout",
     "output_type": "stream",
     "text": [
      "6\n"
     ]
    }
   ],
   "source": [
    "# Calling and printing a function\n",
    "a = fact(3)\n",
    "print(a)"
   ]
  },
  {
   "cell_type": "code",
   "execution_count": null,
   "metadata": {},
   "outputs": [
    {
     "name": "stdout",
     "output_type": "stream",
     "text": [
      "6\n"
     ]
    }
   ],
   "source": [
    "# Printing the chosoing options using the fact function\n",
    "n = int(input())\n",
    "r = int(input())\n",
    "n_fact = fact(n)\n",
    "r_fact = fact(r)\n",
    "n_r_fact = fact(n-r)\n",
    "ans = n_fact//(r_fact * n_r_fact)\n",
    "print(ans)\n"
   ]
  },
  {
   "cell_type": "markdown",
   "metadata": {},
   "source": [
    "### Question 1"
   ]
  },
  {
   "cell_type": "markdown",
   "metadata": {},
   "source": [
    "Check weather a function is prime or not"
   ]
  },
  {
   "cell_type": "code",
   "execution_count": null,
   "metadata": {},
   "outputs": [
    {
     "name": "stdout",
     "output_type": "stream",
     "text": [
      "True\n"
     ]
    }
   ],
   "source": [
    "def isPrime(n):\n",
    "    for d in range(2, n):\n",
    "        if n % d == 0:\n",
    "            break\n",
    "    else:\n",
    "        return True\n",
    "    # we are returning the flase here as the function has tu return either true or false - Till above the function only deals with True. if it comes to return True in the for\n",
    "    # it will terimate there only, but if the fuction breaks(on if statement) it will return false i.e. the given number was not a prime. \n",
    "    return False\n",
    "\n",
    "# Driver Code\n",
    "a = isPrime(7)\n",
    "print(a)"
   ]
  },
  {
   "cell_type": "markdown",
   "metadata": {},
   "source": [
    "Prints all Prime number from 2 to n\n"
   ]
  },
  {
   "cell_type": "code",
   "execution_count": null,
   "metadata": {},
   "outputs": [
    {
     "name": "stdout",
     "output_type": "stream",
     "text": [
      "2\n",
      "3\n",
      "5\n",
      "7\n"
     ]
    }
   ],
   "source": [
    "def primeFrom2toN2(n):\n",
    "    for k in range(2,n+1):\n",
    "        # check if k is prime and in case it is prime print k\n",
    "        is_k_prime = isPrime(k)\n",
    "        if(is_k_prime):\n",
    "            print(k)\n",
    "# Driver Code\n",
    "primeFrom2toN2(10)"
   ]
  },
  {
   "cell_type": "markdown",
   "metadata": {},
   "source": [
    "### Function for calculating nCr"
   ]
  },
  {
   "cell_type": "code",
   "execution_count": null,
   "metadata": {},
   "outputs": [],
   "source": [
    "# We are using the prime function here\n",
    "def ncr(n, r):\n",
    "    n = int(input())\n",
    "    r = int(input())\n",
    "    n_fact = fact(n)\n",
    "    r_fact = fact(r)\n",
    "    n_r_fact = fact(n-r)\n",
    "    ans = n_fact//(r_fact * n_r_fact)\n",
    "    return ans"
   ]
  },
  {
   "cell_type": "code",
   "execution_count": null,
   "metadata": {},
   "outputs": [
    {
     "name": "stdout",
     "output_type": "stream",
     "text": [
      "5\n"
     ]
    }
   ],
   "source": [
    "def func(a):\n",
    "    a = a + 10\n",
    "    return a\n",
    "a = 5\n",
    "func(a)\n",
    "print(a)"
   ]
  },
  {
   "cell_type": "markdown",
   "metadata": {},
   "source": [
    "### DEFAULT ARGUMENTS - Fuctions with variable number of Arguments"
   ]
  },
  {
   "cell_type": "code",
   "execution_count": null,
   "metadata": {},
   "outputs": [
    {
     "name": "stdout",
     "output_type": "stream",
     "text": [
      "9\n",
      "5\n"
     ]
    }
   ],
   "source": [
    "def sum0(a,b):\n",
    "    return a + b\n",
    "\n",
    "def sum1(a,b,c):\n",
    "    return a + b + c\n",
    "# but if we don't want to make a function 2 times then we can...\n",
    "# ALL NON DEFAULT ARGUMNETS SHOULD BE BEFORE ARGUMENTS WITH DEFAULT ARGUMNETS\n",
    "\n",
    "def sum(a,b,c=0):\n",
    "    return a + b + c\n",
    "\n",
    "print(sum(2,3,4))\n",
    "print(sum(2,3))\n"
   ]
  },
  {
   "cell_type": "markdown",
   "metadata": {},
   "source": [
    "### Question 2"
   ]
  },
  {
   "cell_type": "markdown",
   "metadata": {},
   "source": [
    "Fahrenheit to Celsius Function\n",
    "\n",
    "Given three values - Start Fahrenheit Value (S), End Fahrenheit value (E) and Step Size (W), you need to convert all Fahrenheit values from Start to End at the gap of W, into their corresponding Celsius values and print the table.  \n",
    "\n",
    "Input Format :  \n",
    "3 integers - S, E and W respectively\n",
    "\n",
    "Output Format :  \n",
    "Fahrenheit to Celsius conversion table. One line for every Fahrenheit and Celsius Fahrenheit value. Fahrenheit value and its corresponding Celsius value should be separate by tab   (\"\\t\")  \n",
    "\n",
    "Constraints :  \n",
    "0 <= S <= 1000  \n",
    "0 <= E <= 1000  \n",
    "0 <= W <= 1000  \n",
    "\n",
    "Sample Input 1:  \n",
    "0  \n",
    "100  \n",
    "20  \n",
    "\n",
    "Sample Output 1:  \n",
    "0   -17  \n",
    "20  -6  \n",
    "40  4  \n",
    "60  15  \n",
    "80  26  \n",
    "100 37  \n",
    "\n",
    "Sample Input 2:  \n",
    "120   \n",
    "200   \n",
    "40\n",
    "\n",
    "Sample Output 2:  \n",
    "120 48  \n",
    "160 71  \n",
    "200 93  \n",
    "\n",
    "Explanation for Sample Output 2 :  \n",
    "Start value is 120, end value is 200 and step size is 40. Therefore, the values we need to convert are 120, 120 + 40 = 160, and 160 + 40 = 200.   \n",
    "The formula for converting Fahrenheit to Celsius is:  \n",
    "Celsius Value = (5/9)*(Fahrenheit Value - 32)    \n",
    "Plugging 120 into the formula, the celsius value will be (5 / 9)*(120 - 32) => (5 / 9) * 88 => (5 * 88) / 9 => 440 / 9 => 48.88  \n",
    "But we'll only print 48 because we are only interested in the integral part of the value.  "
   ]
  },
  {
   "cell_type": "code",
   "execution_count": null,
   "metadata": {},
   "outputs": [],
   "source": [
    "def printTable(start,end,step):\n",
    "    for i in range(start, end +1,step):\n",
    "        C = (i - 32) * 5/9\n",
    "        print(i,' ',int(C),'\\t')\n",
    " \n",
    "s = int(input())\n",
    "e = int(input())\n",
    "step = int(input())\n",
    "printTable(s,e,step)"
   ]
  },
  {
   "cell_type": "markdown",
   "metadata": {},
   "source": [
    "### Question 3"
   ]
  },
  {
   "cell_type": "markdown",
   "metadata": {},
   "source": [
    "<pre>\n",
    "Fibonacci Member\n",
    "\n",
    "Given a number N, figure out if it is a member of fibonacci series or not. Return true if the number is member of fibonacci series else false.\n",
    "Fibonacci Series is defined by the recurrence\n",
    "    F(n) = F(n-1) + F(n-2)\n",
    "where F(0) = 0 and F(1) = 1\n",
    "\n",
    "\n",
    "Input Format :\n",
    "Integer N\n",
    "Output Format :\n",
    "true or false\n",
    "Constraints :\n",
    "0 <= n <= 10^4\n",
    "Sample Input 1 :\n",
    "5\n",
    "Sample Output 1 :\n",
    "true\n",
    "Sample Input 2 :\n",
    "14\n",
    "Sample Output 2 :\n",
    "false    \n",
    "</pre>"
   ]
  },
  {
   "cell_type": "code",
   "execution_count": null,
   "metadata": {},
   "outputs": [
    {
     "name": "stdout",
     "output_type": "stream",
     "text": [
      "false\n"
     ]
    }
   ],
   "source": [
    "def checkMember(n):\r\n",
    "    f0 = 0\r\n",
    "    f1 = 1\r\n",
    "    if  n==f0 or n==f1:\r\n",
    "        return True\r\n",
    "    f2 = f0+f1\r\n",
    "    while(f2<n):\r\n",
    "        f0 = f1\r\n",
    "        f1 = f2\r\n",
    "        f2 = f0 + f1\r\n",
    "    if f2 == n:\r\n",
    "        return True\r\n",
    "    else:\r\n",
    "        return False\r\n",
    "\r\n",
    "n=int(input())\r\n",
    "if(checkMember(n)):\r\n",
    "    print(\"true\")\r\n",
    "else:\r\n",
    "    print(\"false\")"
   ]
  },
  {
   "cell_type": "markdown",
   "metadata": {},
   "source": [
    "### Question 4"
   ]
  },
  {
   "cell_type": "markdown",
   "metadata": {},
   "source": [
    "<pre>\n",
    "Palindrome number\n",
    "\n",
    "Write a program to determine if given number is palindrome or not. Print true if it is palindrome, false otherwise.\n",
    "Palindrome are the numbers for which reverse is exactly same as the original one. For eg. 121\n",
    "\n",
    "Sample Input 1 :\n",
    "121\n",
    "\n",
    "Sample Output 1 :\n",
    "true\n",
    "\n",
    "Sample Input 2 :\n",
    "1032\n",
    "\n",
    "Sample Output 2 :\n",
    "false\n",
    "</pre>"
   ]
  },
  {
   "cell_type": "code",
   "execution_count": null,
   "metadata": {},
   "outputs": [
    {
     "name": "stdout",
     "output_type": "stream",
     "text": [
      "true\n"
     ]
    }
   ],
   "source": [
    "def checkPalindrome(num):\n",
    "    temp = num\n",
    "    rev = 0\n",
    "    while(num > 0):\n",
    "        reminder = num % 10\n",
    "        rev = (rev * 10) + reminder\n",
    "        num = num // 10\n",
    "        \n",
    "    if (temp == rev):\n",
    "        return True\n",
    "    else:\n",
    "        return False\n",
    "     \n",
    "     \n",
    "num = int(input())\n",
    "isPalindrome = checkPalindrome(num)\n",
    "if(isPalindrome):\n",
    "\tprint('true')\n",
    "else:\n",
    "\tprint('false')"
   ]
  },
  {
   "cell_type": "markdown",
   "metadata": {},
   "source": [
    "### Question 5"
   ]
  },
  {
   "cell_type": "markdown",
   "metadata": {},
   "source": [
    "<pre>\n",
    "Check Armstrong\n",
    "\n",
    "Write a Program to determine if the given number is Armstrong number or not. Print true if number is armstrong, otherwise print false.\n",
    "An Armstrong number is a number (with digits n) such that the sum of its digits raised to nth power is equal to the number itself.\n",
    "\n",
    "For example,\n",
    "371, as 3^3 + 7^3 + 1^3 = 371\n",
    "1634, as 1^4 + 6^4 + 3^4 + 4^4 = 1634\n",
    "\n",
    "Input Format :\n",
    "Integer n\n",
    "\n",
    "Output Format :\n",
    "true or false\n",
    "\n",
    "Sample Input 1 :\n",
    "1\n",
    "\n",
    "Sample Output 1 :\n",
    "true\n",
    "\n",
    "Sample Input 2 :\n",
    "103\n",
    "\n",
    "Sample Output 2 :\n",
    "false\n",
    "</pre>"
   ]
  },
  {
   "cell_type": "code",
   "execution_count": null,
   "metadata": {},
   "outputs": [],
   "source": []
  },
  {
   "cell_type": "markdown",
   "metadata": {},
   "source": [
    "## Lists"
   ]
  },
  {
   "cell_type": "markdown",
   "metadata": {},
   "source": [
    "### Creating a list"
   ]
  },
  {
   "cell_type": "code",
   "execution_count": null,
   "metadata": {},
   "outputs": [],
   "source": [
    "li = []"
   ]
  },
  {
   "cell_type": "code",
   "execution_count": null,
   "metadata": {},
   "outputs": [
    {
     "data": {
      "text/plain": [
       "list"
      ]
     },
     "execution_count": 16,
     "metadata": {},
     "output_type": "execute_result"
    }
   ],
   "source": [
    "type(li)"
   ]
  },
  {
   "cell_type": "code",
   "execution_count": null,
   "metadata": {},
   "outputs": [],
   "source": [
    "li = [1,2,3]"
   ]
  },
  {
   "cell_type": "code",
   "execution_count": null,
   "metadata": {},
   "outputs": [],
   "source": [
    "li  = [1, 2, 'Abhishek', 3.4]"
   ]
  },
  {
   "cell_type": "code",
   "execution_count": null,
   "metadata": {},
   "outputs": [
    {
     "data": {
      "text/plain": [
       "[1, 2, 'Abhishek', 3.4]"
      ]
     },
     "execution_count": 19,
     "metadata": {},
     "output_type": "execute_result"
    }
   ],
   "source": [
    "li"
   ]
  },
  {
   "cell_type": "markdown",
   "metadata": {},
   "source": [
    "### Access and change elements"
   ]
  },
  {
   "cell_type": "code",
   "execution_count": null,
   "metadata": {},
   "outputs": [
    {
     "data": {
      "text/plain": [
       "1"
      ]
     },
     "execution_count": 20,
     "metadata": {},
     "output_type": "execute_result"
    }
   ],
   "source": [
    "li[0]"
   ]
  },
  {
   "cell_type": "code",
   "execution_count": null,
   "metadata": {},
   "outputs": [
    {
     "data": {
      "text/plain": [
       "'Abhishek'"
      ]
     },
     "execution_count": 21,
     "metadata": {},
     "output_type": "execute_result"
    }
   ],
   "source": [
    "li[2]"
   ]
  },
  {
   "cell_type": "code",
   "execution_count": null,
   "metadata": {},
   "outputs": [],
   "source": [
    "li[0] = 5"
   ]
  },
  {
   "cell_type": "code",
   "execution_count": null,
   "metadata": {},
   "outputs": [],
   "source": [
    "li[2] = 'Avishek'"
   ]
  },
  {
   "cell_type": "code",
   "execution_count": null,
   "metadata": {},
   "outputs": [
    {
     "data": {
      "text/plain": [
       "[5, 2, 'Avishek', 3.4]"
      ]
     },
     "execution_count": 24,
     "metadata": {},
     "output_type": "execute_result"
    }
   ],
   "source": [
    "li"
   ]
  },
  {
   "cell_type": "markdown",
   "metadata": {},
   "source": [
    "### Slicing of a list"
   ]
  },
  {
   "cell_type": "code",
   "execution_count": null,
   "metadata": {},
   "outputs": [
    {
     "data": {
      "text/plain": [
       "[2, 'Avishek']"
      ]
     },
     "execution_count": 25,
     "metadata": {},
     "output_type": "execute_result"
    }
   ],
   "source": [
    "# Indexing starts from 0 and ends ar (n-1)\r\n",
    "# Prints 1st and 2nd index\r\n",
    "li [1:3]"
   ]
  },
  {
   "cell_type": "code",
   "execution_count": null,
   "metadata": {},
   "outputs": [
    {
     "data": {
      "text/plain": [
       "[5, 2, 'Avishek', 3.4]"
      ]
     },
     "execution_count": 26,
     "metadata": {},
     "output_type": "execute_result"
    }
   ],
   "source": [
    "li"
   ]
  },
  {
   "cell_type": "code",
   "execution_count": null,
   "metadata": {},
   "outputs": [
    {
     "data": {
      "text/plain": [
       "[2, 'Avishek', 3.4]"
      ]
     },
     "execution_count": 27,
     "metadata": {},
     "output_type": "execute_result"
    }
   ],
   "source": [
    "# Will give us all the elemnts strating from 1st index and ending at last index\r\n",
    "li[1:]"
   ]
  },
  {
   "cell_type": "code",
   "execution_count": null,
   "metadata": {},
   "outputs": [
    {
     "data": {
      "text/plain": [
       "[5, 2, 'Avishek', 3.4]"
      ]
     },
     "execution_count": 28,
     "metadata": {},
     "output_type": "execute_result"
    }
   ],
   "source": [
    "# Will give you complete list\r\n",
    "li[:]"
   ]
  },
  {
   "cell_type": "code",
   "execution_count": null,
   "metadata": {},
   "outputs": [
    {
     "data": {
      "text/plain": [
       "[2, 'Avishek', 3.4]"
      ]
     },
     "execution_count": 29,
     "metadata": {},
     "output_type": "execute_result"
    }
   ],
   "source": [
    "# If I wanna print 1 till 10 index it will not matter if the index is present or not it just prints all the elemets irrespective\r\n",
    "li [1:10]"
   ]
  },
  {
   "cell_type": "markdown",
   "metadata": {},
   "source": [
    "### Inserting and append elemnts in the list"
   ]
  },
  {
   "cell_type": "code",
   "execution_count": null,
   "metadata": {},
   "outputs": [],
   "source": [
    "# will add the element in the last\r\n",
    "li.append('Ankush')"
   ]
  },
  {
   "cell_type": "code",
   "execution_count": null,
   "metadata": {},
   "outputs": [
    {
     "data": {
      "text/plain": [
       "[5, 2, 'Avishek', 3.4, 'Ankush']"
      ]
     },
     "execution_count": 31,
     "metadata": {},
     "output_type": "execute_result"
    }
   ],
   "source": [
    "li"
   ]
  },
  {
   "cell_type": "code",
   "execution_count": null,
   "metadata": {},
   "outputs": [],
   "source": [
    "# Will insert 7 in the 1st index and move all the rest of the index in the last\r\n",
    "li.insert(1,7)"
   ]
  },
  {
   "cell_type": "code",
   "execution_count": null,
   "metadata": {},
   "outputs": [
    {
     "data": {
      "text/plain": [
       "[5, 7, 2, 'Avishek', 3.4, 'Ankush']"
      ]
     },
     "execution_count": 33,
     "metadata": {},
     "output_type": "execute_result"
    }
   ],
   "source": [
    "li"
   ]
  },
  {
   "cell_type": "code",
   "execution_count": null,
   "metadata": {},
   "outputs": [],
   "source": [
    "# if the index we are trying to update in is not present then it will actomatically add in the last index\r\n",
    "li.insert(100,'Abhimanyu')"
   ]
  },
  {
   "cell_type": "code",
   "execution_count": null,
   "metadata": {},
   "outputs": [
    {
     "data": {
      "text/plain": [
       "[5, 7, 2, 'Avishek', 3.4, 'Ankush', 'Abhimanyu']"
      ]
     },
     "execution_count": 35,
     "metadata": {},
     "output_type": "execute_result"
    }
   ],
   "source": [
    "li"
   ]
  },
  {
   "cell_type": "code",
   "execution_count": null,
   "metadata": {},
   "outputs": [],
   "source": [
    "# If I want to append multiple elements liek this then it will add a list inside a list\r\n",
    "li.append([9,10,11])"
   ]
  },
  {
   "cell_type": "code",
   "execution_count": null,
   "metadata": {},
   "outputs": [
    {
     "data": {
      "text/plain": [
       "[5, 7, 2, 'Avishek', 3.4, 'Ankush', 'Abhimanyu', [9, 10, 11]]"
      ]
     },
     "execution_count": 37,
     "metadata": {},
     "output_type": "execute_result"
    }
   ],
   "source": [
    "li"
   ]
  },
  {
   "cell_type": "code",
   "execution_count": null,
   "metadata": {},
   "outputs": [],
   "source": [
    "# But if we do not want to insert the multiple elements as list then we can use 'extend'\r\n",
    "li.extend([9,10,11])"
   ]
  },
  {
   "cell_type": "code",
   "execution_count": null,
   "metadata": {},
   "outputs": [
    {
     "data": {
      "text/plain": [
       "[5, 7, 2, 'Avishek', 3.4, 'Ankush', 'Abhimanyu', [9, 10, 11], 9, 10, 11]"
      ]
     },
     "execution_count": 39,
     "metadata": {},
     "output_type": "execute_result"
    }
   ],
   "source": [
    "li"
   ]
  },
  {
   "cell_type": "markdown",
   "metadata": {},
   "source": [
    "### Removing elements from the list "
   ]
  },
  {
   "cell_type": "code",
   "execution_count": null,
   "metadata": {},
   "outputs": [],
   "source": [
    "li.remove(2)"
   ]
  },
  {
   "cell_type": "code",
   "execution_count": null,
   "metadata": {},
   "outputs": [
    {
     "data": {
      "text/plain": [
       "[5, 7, 'Avishek', 3.4, 'Ankush', 'Abhimanyu', [9, 10, 11], 9, 10, 11]"
      ]
     },
     "execution_count": 41,
     "metadata": {},
     "output_type": "execute_result"
    }
   ],
   "source": [
    "li"
   ]
  },
  {
   "cell_type": "code",
   "execution_count": null,
   "metadata": {},
   "outputs": [],
   "source": [
    "# Now there can be multiple istances of element present\r\n",
    "li.append(5)"
   ]
  },
  {
   "cell_type": "code",
   "execution_count": null,
   "metadata": {},
   "outputs": [],
   "source": [
    "li.remove(5)"
   ]
  },
  {
   "cell_type": "code",
   "execution_count": null,
   "metadata": {},
   "outputs": [
    {
     "data": {
      "text/plain": [
       "[7, 'Avishek', 3.4, 'Ankush', 'Abhimanyu', [9, 10, 11], 9, 10, 11, 5]"
      ]
     },
     "execution_count": 44,
     "metadata": {},
     "output_type": "execute_result"
    }
   ],
   "source": [
    "# 5 is removed from the fisrst element\r\n",
    "li"
   ]
  },
  {
   "cell_type": "code",
   "execution_count": null,
   "metadata": {},
   "outputs": [
    {
     "data": {
      "text/plain": [
       "5"
      ]
     },
     "execution_count": 45,
     "metadata": {},
     "output_type": "execute_result"
    }
   ],
   "source": [
    "# If we wanted to delete from a particular index we could use the pop functationality\r\n",
    "# By default the if we do not specify any value inside the pop fuction the it will remove the last element or else we can specify the index which we would like to \r\n",
    "li.pop()\r\n"
   ]
  },
  {
   "cell_type": "code",
   "execution_count": null,
   "metadata": {},
   "outputs": [
    {
     "data": {
      "text/plain": [
       "[7, 'Avishek', 3.4, 'Ankush', 'Abhimanyu', [9, 10, 11], 9, 10, 11]"
      ]
     },
     "execution_count": 46,
     "metadata": {},
     "output_type": "execute_result"
    }
   ],
   "source": [
    "li"
   ]
  },
  {
   "cell_type": "code",
   "execution_count": null,
   "metadata": {},
   "outputs": [
    {
     "data": {
      "text/plain": [
       "3.4"
      ]
     },
     "execution_count": 47,
     "metadata": {},
     "output_type": "execute_result"
    }
   ],
   "source": [
    "# pop also returns the elemnt that is removed\r\n",
    "li.pop(2)"
   ]
  },
  {
   "cell_type": "code",
   "execution_count": null,
   "metadata": {},
   "outputs": [
    {
     "data": {
      "text/plain": [
       "[7, 'Avishek', 'Ankush', 'Abhimanyu', [9, 10, 11], 9, 10, 11]"
      ]
     },
     "execution_count": 48,
     "metadata": {},
     "output_type": "execute_result"
    }
   ],
   "source": [
    "li"
   ]
  },
  {
   "cell_type": "code",
   "execution_count": null,
   "metadata": {},
   "outputs": [
    {
     "data": {
      "text/plain": [
       "8"
      ]
     },
     "execution_count": 49,
     "metadata": {},
     "output_type": "execute_result"
    }
   ],
   "source": [
    "# length functionality is present in the list\r\n",
    "len(li)"
   ]
  },
  {
   "cell_type": "markdown",
   "metadata": {},
   "source": [
    "### Loopin in a list"
   ]
  },
  {
   "cell_type": "code",
   "execution_count": null,
   "metadata": {},
   "outputs": [],
   "source": [
    "a = [1, 2, 'Avishek', 9, 10, 11, 'Abhimanyu']"
   ]
  },
  {
   "cell_type": "code",
   "execution_count": null,
   "metadata": {},
   "outputs": [
    {
     "data": {
      "text/plain": [
       "[1, 2, 'Avishek', 9, 10, 11, 'Abhimanyu']"
      ]
     },
     "execution_count": 51,
     "metadata": {},
     "output_type": "execute_result"
    }
   ],
   "source": [
    "a"
   ]
  },
  {
   "cell_type": "code",
   "execution_count": null,
   "metadata": {},
   "outputs": [
    {
     "name": "stdout",
     "output_type": "stream",
     "text": [
      "1\n",
      "2\n",
      "Avishek\n",
      "9\n",
      "10\n",
      "11\n",
      "Abhimanyu\n"
     ]
    }
   ],
   "source": [
    "# Printing the elements of list - we can do it in 2 ways\r\n",
    "# We will use this method when we need the index in our programme\r\n",
    "# WAY 1\r\n",
    "for i in range(len(a)):\r\n",
    "    print(a[i])"
   ]
  },
  {
   "cell_type": "code",
   "execution_count": null,
   "metadata": {},
   "outputs": [
    {
     "name": "stdout",
     "output_type": "stream",
     "text": [
      "Avishek\n",
      "9\n",
      "10\n",
      "11\n",
      "Abhimanyu\n"
     ]
    }
   ],
   "source": [
    "# Starting from the 2nd index and then looping\r\n",
    "for i in range(2,len(a)):\r\n",
    "    print(a[i])"
   ]
  },
  {
   "cell_type": "code",
   "execution_count": null,
   "metadata": {},
   "outputs": [
    {
     "name": "stdout",
     "output_type": "stream",
     "text": [
      "1\n",
      "2\n",
      "Avishek\n",
      "9\n",
      "10\n",
      "11\n",
      "Abhimanyu\n"
     ]
    }
   ],
   "source": [
    "# We can also print the elements of the list in this friend\r\n",
    "# We will prefer this if we do not need an index\r\n",
    "# WAY 2\r\n",
    "for i in a:\r\n",
    "    print(i)"
   ]
  },
  {
   "cell_type": "code",
   "execution_count": null,
   "metadata": {},
   "outputs": [
    {
     "name": "stdout",
     "output_type": "stream",
     "text": [
      "Avishek\n",
      "9\n",
      "10\n",
      "11\n",
      "Abhimanyu\n"
     ]
    }
   ],
   "source": [
    "# Starting from the 2nd index and then looping\r\n",
    "for i in a[2:]:\r\n",
    "    print(i)"
   ]
  },
  {
   "cell_type": "markdown",
   "metadata": {},
   "source": [
    "### Negetive Indexing and Sequencing in Lists"
   ]
  },
  {
   "cell_type": "code",
   "execution_count": null,
   "metadata": {},
   "outputs": [],
   "source": [
    "b = [1, 2, 3, 4, 5]"
   ]
  },
  {
   "cell_type": "code",
   "execution_count": null,
   "metadata": {},
   "outputs": [
    {
     "data": {
      "text/plain": [
       "5"
      ]
     },
     "execution_count": 2,
     "metadata": {},
     "output_type": "execute_result"
    }
   ],
   "source": [
    "# Gives the last element or we can look at it as the first element from the last\r\n",
    "b[-1]"
   ]
  },
  {
   "cell_type": "code",
   "execution_count": null,
   "metadata": {},
   "outputs": [
    {
     "data": {
      "text/plain": [
       "4"
      ]
     },
     "execution_count": 3,
     "metadata": {},
     "output_type": "execute_result"
    }
   ],
   "source": [
    "# Gives us the second element from the last\r\n",
    "b[-2]"
   ]
  },
  {
   "cell_type": "code",
   "execution_count": null,
   "metadata": {},
   "outputs": [
    {
     "data": {
      "text/plain": [
       "5"
      ]
     },
     "execution_count": 4,
     "metadata": {},
     "output_type": "execute_result"
    }
   ],
   "source": [
    "# gives us the last index we do -1 because the indexing starts from 0\r\n",
    "b[len(b)-1]"
   ]
  },
  {
   "cell_type": "markdown",
   "metadata": {},
   "source": [
    "### Sequencing in lists"
   ]
  },
  {
   "cell_type": "code",
   "execution_count": null,
   "metadata": {},
   "outputs": [
    {
     "data": {
      "text/plain": [
       "[1, 2, 3, 4, 5]"
      ]
     },
     "execution_count": 5,
     "metadata": {},
     "output_type": "execute_result"
    }
   ],
   "source": [
    "# We can have sequencing in lists [START:END:STEP]\r\n",
    "b"
   ]
  },
  {
   "cell_type": "code",
   "execution_count": null,
   "metadata": {},
   "outputs": [
    {
     "data": {
      "text/plain": [
       "[2, 3, 4, 5]"
      ]
     },
     "execution_count": 6,
     "metadata": {},
     "output_type": "execute_result"
    }
   ],
   "source": [
    "b[1:5:1]"
   ]
  },
  {
   "cell_type": "code",
   "execution_count": null,
   "metadata": {},
   "outputs": [
    {
     "data": {
      "text/plain": [
       "[2, 3]"
      ]
     },
     "execution_count": 7,
     "metadata": {},
     "output_type": "execute_result"
    }
   ],
   "source": [
    "# end goes till n-1\r\n",
    "b[1:3:1]"
   ]
  },
  {
   "cell_type": "code",
   "execution_count": null,
   "metadata": {},
   "outputs": [
    {
     "data": {
      "text/plain": [
       "[1, 2, 3, 4, 5]"
      ]
     },
     "execution_count": 8,
     "metadata": {},
     "output_type": "execute_result"
    }
   ],
   "source": [
    "# b is not being changes the obove operations are just variable and can be used inside\r\n",
    "b"
   ]
  },
  {
   "cell_type": "code",
   "execution_count": null,
   "metadata": {},
   "outputs": [
    {
     "data": {
      "text/plain": [
       "[2, 4]"
      ]
     },
     "execution_count": 9,
     "metadata": {},
     "output_type": "execute_result"
    }
   ],
   "source": [
    "b[1:5:2]"
   ]
  },
  {
   "cell_type": "code",
   "execution_count": null,
   "metadata": {},
   "outputs": [
    {
     "data": {
      "text/plain": [
       "[2, 3, 4, 5]"
      ]
     },
     "execution_count": 10,
     "metadata": {},
     "output_type": "execute_result"
    }
   ],
   "source": [
    "# will start from 1st index and will go to the end\r\n",
    "b[1:]"
   ]
  },
  {
   "cell_type": "code",
   "execution_count": null,
   "metadata": {},
   "outputs": [
    {
     "data": {
      "text/plain": [
       "[2, 4]"
      ]
     },
     "execution_count": 11,
     "metadata": {},
     "output_type": "execute_result"
    }
   ],
   "source": [
    "# will start from the 1st index and go till the last index, and will incremenrt till 2\r\n",
    "b[1::2]"
   ]
  },
  {
   "cell_type": "code",
   "execution_count": null,
   "metadata": {},
   "outputs": [
    {
     "data": {
      "text/plain": [
       "[5]"
      ]
     },
     "execution_count": 13,
     "metadata": {},
     "output_type": "execute_result"
    }
   ],
   "source": [
    "# By default start is 0, end is len of list and the step is one\r\n",
    "b[-1:]"
   ]
  },
  {
   "cell_type": "code",
   "execution_count": null,
   "metadata": {},
   "outputs": [
    {
     "data": {
      "text/plain": [
       "[3, 4]"
      ]
     },
     "execution_count": 17,
     "metadata": {},
     "output_type": "execute_result"
    }
   ],
   "source": [
    "# It starts from the third last element and goes till last element -1 as (n -1)\r\n",
    "b[-3:-1]"
   ]
  },
  {
   "cell_type": "code",
   "execution_count": null,
   "metadata": {},
   "outputs": [
    {
     "data": {
      "text/plain": [
       "[5, 4, 3, 2, 1]"
      ]
     },
     "execution_count": 16,
     "metadata": {},
     "output_type": "execute_result"
    }
   ],
   "source": [
    "# if we want to print the list in reverse we will have to \r\n",
    "b[-1::-1]"
   ]
  },
  {
   "cell_type": "markdown",
   "metadata": {},
   "source": [
    "### Taking input in a list"
   ]
  },
  {
   "cell_type": "markdown",
   "metadata": {},
   "source": [
    "line seperate input in a list"
   ]
  },
  {
   "cell_type": "code",
   "execution_count": null,
   "metadata": {},
   "outputs": [
    {
     "name": "stdout",
     "output_type": "stream",
     "text": [
      "The output for c is:  [1, 2, 3, 4, 5] and there are n elements in the list, n =  5\n"
     ]
    }
   ],
   "source": [
    "# n asks for the number of inputs, c is a list and we are appending the valus of curr inside x for n number of times.\r\n",
    "# as it is asling us again and again for the input therefore the input is line seperated input\r\n",
    "n = int(input())\r\n",
    "c = []\r\n",
    "for i in range(n):\r\n",
    "    curr = int(input())\r\n",
    "    c.append(curr)\r\n",
    "\r\n",
    "print('The output for c is: ',c, 'and there are n elements in the list, n =',n)"
   ]
  },
  {
   "cell_type": "code",
   "execution_count": null,
   "metadata": {},
   "outputs": [
    {
     "name": "stdout",
     "output_type": "stream",
     "text": [
      "1\n",
      "2\n",
      "3\n",
      "4\n",
      "5\n"
     ]
    }
   ],
   "source": [
    "# if wanted to print all the elemesnts of the list we have seen that already\r\n",
    "for ele in c:\r\n",
    "    print (ele)"
   ]
  },
  {
   "cell_type": "markdown",
   "metadata": {},
   "source": [
    "Space seperated in puts in a list"
   ]
  },
  {
   "cell_type": "code",
   "execution_count": null,
   "metadata": {},
   "outputs": [
    {
     "name": "stdout",
     "output_type": "stream",
     "text": [
      "['1', '2', '3', '4', '5']\n"
     ]
    }
   ],
   "source": [
    "# first lets understan the split functionality of python\r\n",
    "str = input()\r\n",
    "str_split = str.split(',') # splits in basis of ','\r\n",
    "print(str_split)"
   ]
  },
  {
   "cell_type": "code",
   "execution_count": null,
   "metadata": {},
   "outputs": [
    {
     "name": "stdout",
     "output_type": "stream",
     "text": [
      "['1', '2', '3', '4', '5']\n"
     ]
    }
   ],
   "source": [
    "# by default the split dunction uses space ' ' as a delimeter\r\n",
    "# if we want to split on basis of ' ' blank spaces we could do this...\r\n",
    "str = input()\r\n",
    "str_split = str.split(' ') # splits in basis of ','\r\n",
    "print(str_split)"
   ]
  },
  {
   "cell_type": "code",
   "execution_count": null,
   "metadata": {},
   "outputs": [
    {
     "name": "stdout",
     "output_type": "stream",
     "text": [
      "[1, 2, 3, 4, 5]\n"
     ]
    }
   ],
   "source": [
    "# now the given lists has strings and we want integers\r\n",
    "d = []\r\n",
    "for ele in str_split:\r\n",
    "    d.append(int(ele))\r\n",
    "\r\n",
    "print(d)"
   ]
  },
  {
   "cell_type": "code",
   "execution_count": null,
   "metadata": {},
   "outputs": [
    {
     "name": "stdout",
     "output_type": "stream",
     "text": [
      "[1, 2, 3, 4, 5]\n"
     ]
    }
   ],
   "source": [
    "# IMPORTANT\r\n",
    "# we could do all of this in one line\r\n",
    "d = [int(x) for x in input().split(' ')]\r\n",
    "print(d)"
   ]
  },
  {
   "cell_type": "code",
   "execution_count": null,
   "metadata": {},
   "outputs": [
    {
     "name": "stdout",
     "output_type": "stream",
     "text": [
      "1 2 3 4 5 "
     ]
    }
   ],
   "source": [
    "# printing all the elemenst of the list in one line\r\n",
    "for ele in d:\r\n",
    "    print (ele, end =' ')"
   ]
  },
  {
   "cell_type": "code",
   "execution_count": null,
   "metadata": {},
   "outputs": [
    {
     "name": "stdout",
     "output_type": "stream",
     "text": [
      "1 2 3 4 5 "
     ]
    }
   ],
   "source": [
    "# for taking 5 inputs from the user\r\n",
    "n = int(input())\r\n",
    "d = [int(x) for x in input().split()]\r\n",
    "for ele in d:\r\n",
    "    print (ele, end = ' ')"
   ]
  },
  {
   "cell_type": "markdown",
   "metadata": {},
   "source": [
    "### Question 1"
   ]
  },
  {
   "cell_type": "markdown",
   "metadata": {},
   "source": [
    "#### Array Sum\r\n",
    "<pre>\r\n",
    "Given an array of length N, you need to find and print the sum of all elements of the array.\r\n",
    "Input Format :\r\n",
    "Line 1 : An Integer N i.e. size of array\r\n",
    "Line 2 : N integers which are elements of the array, separated by spaces\r\n",
    "Output Format :\r\n",
    "Sum\r\n",
    "Constraints :\r\n",
    "1 <= N <= 10^6\r\n",
    "Sample Input :\r\n",
    "3\r\n",
    "9 8 9\r\n",
    "Sample Output :\r\n",
    "26\r\n",
    "</pre>"
   ]
  },
  {
   "cell_type": "code",
   "execution_count": null,
   "metadata": {},
   "outputs": [
    {
     "name": "stdout",
     "output_type": "stream",
     "text": [
      "26\n"
     ]
    }
   ],
   "source": [
    "N = int(input())\r\n",
    "d = [int(x) for x in input().split()]\r\n",
    "a = 0\r\n",
    "for ele in d:\r\n",
    "    a = ele + a\r\n",
    "print(a)"
   ]
  },
  {
   "cell_type": "markdown",
   "metadata": {},
   "source": [
    "### Linear Search"
   ]
  },
  {
   "cell_type": "code",
   "execution_count": null,
   "metadata": {},
   "outputs": [
    {
     "name": "stdout",
     "output_type": "stream",
     "text": [
      "[2, 4, 7, 9, 10, 13]\n"
     ]
    }
   ],
   "source": [
    "# n is how many elements are present, li is the lsit with the input from the user in one list\r\n",
    "n = int(input())\r\n",
    "li = [int(x) for x in input().split()]\r\n",
    "print(li)"
   ]
  },
  {
   "cell_type": "code",
   "execution_count": null,
   "metadata": {},
   "outputs": [
    {
     "name": "stdout",
     "output_type": "stream",
     "text": [
      "10\n"
     ]
    }
   ],
   "source": [
    "# ele is the element we want to search in the list li. If present we output the index of the element or else we display -1\r\n",
    "ele = int(input())\r\n",
    "print(ele)"
   ]
  },
  {
   "cell_type": "code",
   "execution_count": null,
   "metadata": {},
   "outputs": [
    {
     "name": "stdout",
     "output_type": "stream",
     "text": [
      "4\n"
     ]
    }
   ],
   "source": [
    "for i in range(len(li)):\r\n",
    "    if li[i] == ele:\r\n",
    "        print(i)\r\n",
    "        break\r\n",
    "else:\r\n",
    "    print('-1')"
   ]
  },
  {
   "cell_type": "markdown",
   "metadata": {},
   "source": [
    "### Linear Search through functions"
   ]
  },
  {
   "cell_type": "code",
   "execution_count": null,
   "metadata": {},
   "outputs": [
    {
     "name": "stdout",
     "output_type": "stream",
     "text": [
      "3\n"
     ]
    }
   ],
   "source": [
    "def LinearSearch(li, ele):\r\n",
    "    for i in range(len(li)):\r\n",
    "        if li[i] == ele:\r\n",
    "            return(i)\r\n",
    "            break\r\n",
    "    return ('-1')\r\n",
    "\r\n",
    "li = [1,2,3,90,76]\r\n",
    "ele = 90\r\n",
    "index = LinearSearch(li,ele)\r\n",
    "print(index)"
   ]
  },
  {
   "cell_type": "markdown",
   "metadata": {},
   "source": [
    "### Mutable and Immutable concept"
   ]
  },
  {
   "cell_type": "markdown",
   "metadata": {},
   "source": [
    "immutable variable demonstration"
   ]
  },
  {
   "cell_type": "code",
   "execution_count": null,
   "metadata": {},
   "outputs": [
    {
     "name": "stdout",
     "output_type": "stream",
     "text": [
      "3\n"
     ]
    }
   ],
   "source": [
    "#id of a and x are the same as they are pointing to the same number\r\n",
    "x = 3\r\n",
    "a = 3\r\n",
    "print(x)"
   ]
  },
  {
   "cell_type": "code",
   "execution_count": null,
   "metadata": {},
   "outputs": [
    {
     "data": {
      "text/plain": [
       "140726555977584"
      ]
     },
     "execution_count": 81,
     "metadata": {},
     "output_type": "execute_result"
    }
   ],
   "source": [
    "id(a)"
   ]
  },
  {
   "cell_type": "code",
   "execution_count": null,
   "metadata": {},
   "outputs": [
    {
     "data": {
      "text/plain": [
       "140726555977584"
      ]
     },
     "execution_count": 82,
     "metadata": {},
     "output_type": "execute_result"
    }
   ],
   "source": [
    "id(x)"
   ]
  },
  {
   "cell_type": "code",
   "execution_count": null,
   "metadata": {},
   "outputs": [
    {
     "data": {
      "text/plain": [
       "140726555977616"
      ]
     },
     "execution_count": 83,
     "metadata": {},
     "output_type": "execute_result"
    }
   ],
   "source": [
    "# id of 'a' changes but the x value is the same\r\n",
    "a = 4\r\n",
    "id(a)"
   ]
  },
  {
   "cell_type": "code",
   "execution_count": null,
   "metadata": {},
   "outputs": [
    {
     "data": {
      "text/plain": [
       "3"
      ]
     },
     "execution_count": 84,
     "metadata": {},
     "output_type": "execute_result"
    }
   ],
   "source": [
    "x"
   ]
  },
  {
   "cell_type": "code",
   "execution_count": null,
   "metadata": {},
   "outputs": [
    {
     "data": {
      "text/plain": [
       "4"
      ]
     },
     "execution_count": 85,
     "metadata": {},
     "output_type": "execute_result"
    }
   ],
   "source": [
    "a"
   ]
  },
  {
   "cell_type": "markdown",
   "metadata": {},
   "source": [
    "Mutable lists demonstration"
   ]
  },
  {
   "cell_type": "code",
   "execution_count": null,
   "metadata": {},
   "outputs": [],
   "source": [
    "li = [1,2,3,4]\r\n",
    "li2 = li\r\n",
    "li2 = [3,4,4]\r\n",
    "li[1]= 4"
   ]
  },
  {
   "cell_type": "code",
   "execution_count": null,
   "metadata": {},
   "outputs": [
    {
     "name": "stdout",
     "output_type": "stream",
     "text": [
      "[1, 4, 3, 4]\n",
      "[3, 4, 4]\n"
     ]
    }
   ],
   "source": [
    "print(li)\r\n",
    "print (li2)"
   ]
  },
  {
   "cell_type": "markdown",
   "metadata": {},
   "source": [
    "### Passing a variable through a Function"
   ]
  },
  {
   "cell_type": "code",
   "execution_count": null,
   "metadata": {},
   "outputs": [
    {
     "name": "stdout",
     "output_type": "stream",
     "text": [
      "2\n"
     ]
    }
   ],
   "source": [
    "# Wrong way of doning things(Ecplained in copy)\r\n",
    "# Expected ans was 4 and the real ans is 2\r\n",
    "def increment(a):\r\n",
    "    a = a+2\r\n",
    "    return\r\n",
    "\r\n",
    "a =2\r\n",
    "increment(a)\r\n",
    "print(a)"
   ]
  },
  {
   "cell_type": "code",
   "execution_count": null,
   "metadata": {},
   "outputs": [
    {
     "name": "stdout",
     "output_type": "stream",
     "text": [
      "4\n"
     ]
    }
   ],
   "source": [
    "# correct way of doing things\r\n",
    "def increment(a):\r\n",
    "    a = a+2\r\n",
    "    return a\r\n",
    "\r\n",
    "a =2\r\n",
    "a = increment(a)\r\n",
    "print(a)"
   ]
  },
  {
   "cell_type": "markdown",
   "metadata": {},
   "source": [
    "### Passing lists through functions"
   ]
  },
  {
   "cell_type": "code",
   "execution_count": null,
   "metadata": {},
   "outputs": [
    {
     "name": "stdout",
     "output_type": "stream",
     "text": [
      "[3, 2, 3, 4, 5]\n"
     ]
    }
   ],
   "source": [
    "# This is correct ways as lists are mutable\r\n",
    "def increment(li):\r\n",
    "    li[0] = li[0] + 2\r\n",
    "    return\r\n",
    "\r\n",
    "li = [1,2,3,4,5]\r\n",
    "increment(li)\r\n",
    "print(li)"
   ]
  },
  {
   "cell_type": "code",
   "execution_count": null,
   "metadata": {},
   "outputs": [
    {
     "name": "stdout",
     "output_type": "stream",
     "text": [
      "[1, 2, 3, 4, 5]\n"
     ]
    }
   ],
   "source": [
    "# we want to change the list to [3,2,4] but it is not changing as \r\n",
    "# this is not the correct way\r\n",
    "def newList(li):\r\n",
    "    li = [3,2,4]\r\n",
    "    return\r\n",
    "\r\n",
    "li = [1,2,3,4,5]\r\n",
    "newList(li)\r\n",
    "print(li)"
   ]
  },
  {
   "cell_type": "code",
   "execution_count": null,
   "metadata": {},
   "outputs": [
    {
     "name": "stdout",
     "output_type": "stream",
     "text": [
      "[3, 2, 4]\n"
     ]
    }
   ],
   "source": [
    "# The correct way of doin things is\r\n",
    "def newList(li):\r\n",
    "    li = [3,2,4]\r\n",
    "    return li\r\n",
    "\r\n",
    "li = [1,2,3,4,5]\r\n",
    "li = newList(li)\r\n",
    "print(li)"
   ]
  },
  {
   "cell_type": "markdown",
   "metadata": {},
   "source": [
    "### Revercing a List"
   ]
  },
  {
   "cell_type": "markdown",
   "metadata": {},
   "source": [
    "1. Using the concept of swapping and length"
   ]
  },
  {
   "cell_type": "code",
   "execution_count": null,
   "metadata": {},
   "outputs": [
    {
     "name": "stdout",
     "output_type": "stream",
     "text": [
      "[6, 5, 4, 3, 2, 1]\n"
     ]
    }
   ],
   "source": [
    "def reverseL(li):\r\n",
    "    length = len(li)\r\n",
    "    for i in range(length//2):\r\n",
    "        li[i],li[length-i-1] = li[length-i-1],li[i] # This is how we can perform swapping in python for lists\r\n",
    "    \r\n",
    "li = [1, 2, 3, 4, 5, 6]\r\n",
    "reverseL(li)\r\n",
    "print(li)\r\n",
    "        "
   ]
  },
  {
   "cell_type": "markdown",
   "metadata": {},
   "source": [
    "2. Using the concept of negetive indexing"
   ]
  },
  {
   "cell_type": "code",
   "execution_count": null,
   "metadata": {},
   "outputs": [
    {
     "name": "stdout",
     "output_type": "stream",
     "text": [
      "[6, 5, 4, 3, 2, 1]\n"
     ]
    }
   ],
   "source": [
    "# Using the negetive indexing concept\r\n",
    "def reverseL2(li):\r\n",
    "    length = len(li)\r\n",
    "    for i in range(length//2):\r\n",
    "        li[i],li[-i-1] = li[-i-1],li[i] # This is how we can perform swapping in python for lists\r\n",
    "    \r\n",
    "li = [1, 2, 3, 4, 5, 6]\r\n",
    "reverseL2(li)\r\n",
    "print(li)"
   ]
  },
  {
   "cell_type": "markdown",
   "metadata": {},
   "source": [
    "3. Using the concept of slicing a list"
   ]
  },
  {
   "cell_type": "code",
   "execution_count": null,
   "metadata": {},
   "outputs": [
    {
     "data": {
      "text/plain": [
       "[6, 5, 4, 3, 2, 1]"
      ]
     },
     "execution_count": 107,
     "metadata": {},
     "output_type": "execute_result"
    }
   ],
   "source": [
    "# for understanding\r\n",
    "li = [6,5,4,3,2,1]\r\n",
    "li"
   ]
  },
  {
   "cell_type": "code",
   "execution_count": null,
   "metadata": {},
   "outputs": [
    {
     "data": {
      "text/plain": [
       "[3, 4]"
      ]
     },
     "execution_count": 110,
     "metadata": {},
     "output_type": "execute_result"
    }
   ],
   "source": [
    "li[3:1:-1]"
   ]
  },
  {
   "cell_type": "code",
   "execution_count": null,
   "metadata": {},
   "outputs": [],
   "source": []
  }
 ],
 "metadata": {
  "interpreter": {
   "hash": "96eb50e1d44aed467dc8f759cb08c32fbfa9babcf79c554e2d0e5feb04653a10"
  },
  "kernelspec": {
   "display_name": "Python 3.8.8 64-bit ('base': conda)",
   "name": "python3"
  },
  "language_info": {
   "codemirror_mode": {
    "name": "ipython",
    "version": 3
   },
   "file_extension": ".py",
   "mimetype": "text/x-python",
   "name": "python",
   "nbconvert_exporter": "python",
   "pygments_lexer": "ipython3",
   "version": "3.8.8"
  },
  "orig_nbformat": 4
 },
 "nbformat": 4,
 "nbformat_minor": 2
}