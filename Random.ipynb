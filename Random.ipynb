{
 "cells": [
  {
   "cell_type": "markdown",
   "source": [
    "# Absolute Begginer Questions From Guvi\r\n",
    "https://www.youtube.com/watch?v=5dLOsuHee3g&list=PLP7g_jYI-kllM9TsabyYNi8M3zWaxyv_R&index=4"
   ],
   "metadata": {}
  },
  {
   "cell_type": "markdown",
   "source": [
    "### Question 1\r\n",
    "You are given three numbers A, B & C. Print the largest amongst these three numbers.\r\n",
    "\r\n",
    "Input Description:\r\n",
    "Three numbers are provided to you.\r\n",
    "\r\n",
    "Output Description:\r\n",
    "Find and print the largest among the three\r\n",
    "\r\n",
    "Sample Input :  \r\n",
    "1  \r\n",
    "2  \r\n",
    "3  \r\n",
    "\r\n",
    "Sample Output :  \r\n",
    "3"
   ],
   "metadata": {}
  },
  {
   "cell_type": "code",
   "execution_count": 1,
   "source": [
    "arr = []\r\n",
    "for i in range(3):\r\n",
    "    arr.append(int(input()))\r\n",
    "print(max(arr))"
   ],
   "outputs": [
    {
     "output_type": "stream",
     "name": "stdout",
     "text": [
      "3\n"
     ]
    }
   ],
   "metadata": {}
  },
  {
   "cell_type": "markdown",
   "source": [
    "### Question 2\r\n",
    "You are given a number A in Kilometers. Convert this into B: Meters and C: Centi-Metres.\r\n",
    "\r\n",
    "Input Description:\r\n",
    "A number \"A\" representing some distance in kilometer is provided to you as the input.\r\n",
    "\r\n",
    "Output Description:\r\n",
    "Convert and print this value in meters and centimeters.\r\n",
    "\r\n",
    "Sample Input :  \r\n",
    "2  \r\n",
    "Sample Output :  \r\n",
    "2000  \r\n",
    "200000  "
   ],
   "metadata": {}
  },
  {
   "cell_type": "code",
   "execution_count": 2,
   "source": [
    "A = int(input())\r\n",
    "print(A*1000)\r\n",
    "print(A*100000)"
   ],
   "outputs": [
    {
     "output_type": "stream",
     "name": "stdout",
     "text": [
      "2000\n",
      "200000\n"
     ]
    }
   ],
   "metadata": {}
  },
  {
   "cell_type": "markdown",
   "source": [
    "### Question 3\r\n",
    "Print the First 3 multiples of the given number \"N\". (N is a positive integer)\r\n",
    "\r\n",
    "Note: print the characters with a single space between them.\r\n",
    "\r\n",
    "Input Description:\r\n",
    "A positive integer is provided to you as an input.\r\n",
    "\r\n",
    "Output Description:\r\n",
    "Print the First 3 multiples of the number with single spaces between them as an output.\r\n",
    "\r\n",
    "Sample Input :  \r\n",
    "2  \r\n",
    "Sample Output :  \r\n",
    "2 4 6"
   ],
   "metadata": {}
  },
  {
   "cell_type": "code",
   "execution_count": null,
   "source": [],
   "outputs": [],
   "metadata": {}
  }
 ],
 "metadata": {
  "interpreter": {
   "hash": "96eb50e1d44aed467dc8f759cb08c32fbfa9babcf79c554e2d0e5feb04653a10"
  },
  "kernelspec": {
   "display_name": "Python 3.8.8 64-bit ('base': conda)",
   "name": "python3"
  },
  "language_info": {
   "name": "python",
   "version": ""
  },
  "orig_nbformat": 2
 },
 "nbformat": 4,
 "nbformat_minor": 2
}