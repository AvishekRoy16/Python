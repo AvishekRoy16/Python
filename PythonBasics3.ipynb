{
 "cells": [
  {
   "cell_type": "markdown",
   "source": [
    "# Python Basics 3"
   ],
   "metadata": {}
  },
  {
   "cell_type": "markdown",
   "source": [
    "## Contents:\r\n",
    "* Strings"
   ],
   "metadata": {}
  },
  {
   "cell_type": "markdown",
   "source": [
    "### Initialisation"
   ],
   "metadata": {}
  },
  {
   "cell_type": "code",
   "execution_count": 3,
   "source": [
    "a = 'Avishek'"
   ],
   "outputs": [],
   "metadata": {}
  },
  {
   "cell_type": "code",
   "execution_count": 4,
   "source": [
    "print(a)"
   ],
   "outputs": [
    {
     "output_type": "stream",
     "name": "stdout",
     "text": [
      "Avishek\n"
     ]
    }
   ],
   "metadata": {}
  },
  {
   "cell_type": "code",
   "execution_count": 5,
   "source": [
    "a = \"Avishek\""
   ],
   "outputs": [],
   "metadata": {}
  },
  {
   "cell_type": "code",
   "execution_count": 6,
   "source": [
    "print(a)"
   ],
   "outputs": [
    {
     "output_type": "stream",
     "name": "stdout",
     "text": [
      "Avishek\n"
     ]
    }
   ],
   "metadata": {}
  },
  {
   "cell_type": "code",
   "execution_count": 7,
   "source": [
    "a = '''Avishek'''"
   ],
   "outputs": [],
   "metadata": {}
  },
  {
   "cell_type": "code",
   "execution_count": 8,
   "source": [
    "print(a)"
   ],
   "outputs": [
    {
     "output_type": "stream",
     "name": "stdout",
     "text": [
      "Avishek\n"
     ]
    }
   ],
   "metadata": {}
  },
  {
   "cell_type": "markdown",
   "source": [
    "### Multiline string"
   ],
   "metadata": {}
  },
  {
   "cell_type": "code",
   "execution_count": 9,
   "source": [
    "# Advntage of the trinple quotes - Multiline string\r\n",
    "b = '''My \r\n",
    "name is\r\n",
    "Avishek Roy'''"
   ],
   "outputs": [],
   "metadata": {}
  },
  {
   "cell_type": "code",
   "execution_count": 10,
   "source": [
    "print(b)"
   ],
   "outputs": [
    {
     "output_type": "stream",
     "name": "stdout",
     "text": [
      "My \n",
      "name is\n",
      "Avishek Roy\n"
     ]
    }
   ],
   "metadata": {}
  },
  {
   "cell_type": "markdown",
   "source": [
    "### String Indexing"
   ],
   "metadata": {}
  },
  {
   "cell_type": "code",
   "execution_count": 11,
   "source": [
    "# The concept of indexing is quite similar to that of indxing in lists\r\n",
    "a = 'Avishek'"
   ],
   "outputs": [],
   "metadata": {}
  },
  {
   "cell_type": "code",
   "execution_count": 12,
   "source": [
    "a[0]"
   ],
   "outputs": [
    {
     "output_type": "execute_result",
     "data": {
      "text/plain": [
       "'A'"
      ]
     },
     "metadata": {},
     "execution_count": 12
    }
   ],
   "metadata": {}
  },
  {
   "cell_type": "code",
   "execution_count": 13,
   "source": [
    "a[6]"
   ],
   "outputs": [
    {
     "output_type": "execute_result",
     "data": {
      "text/plain": [
       "'k'"
      ]
     },
     "metadata": {},
     "execution_count": 13
    }
   ],
   "metadata": {}
  },
  {
   "cell_type": "code",
   "execution_count": 14,
   "source": [
    "a[-1]"
   ],
   "outputs": [
    {
     "output_type": "execute_result",
     "data": {
      "text/plain": [
       "'k'"
      ]
     },
     "metadata": {},
     "execution_count": 14
    }
   ],
   "metadata": {}
  },
  {
   "cell_type": "code",
   "execution_count": 15,
   "source": [
    "a = '''My\r\n",
    "name is\r\n",
    "Avishek'''"
   ],
   "outputs": [],
   "metadata": {}
  },
  {
   "cell_type": "code",
   "execution_count": 16,
   "source": [
    "a[0]"
   ],
   "outputs": [
    {
     "output_type": "execute_result",
     "data": {
      "text/plain": [
       "'M'"
      ]
     },
     "metadata": {},
     "execution_count": 16
    }
   ],
   "metadata": {}
  },
  {
   "cell_type": "code",
   "execution_count": 17,
   "source": [
    "# When we go to the new line the index is taken by new line character\r\n",
    "a[2]"
   ],
   "outputs": [
    {
     "output_type": "execute_result",
     "data": {
      "text/plain": [
       "'\\n'"
      ]
     },
     "metadata": {},
     "execution_count": 17
    }
   ],
   "metadata": {}
  },
  {
   "cell_type": "code",
   "execution_count": 18,
   "source": [
    "a"
   ],
   "outputs": [
    {
     "output_type": "execute_result",
     "data": {
      "text/plain": [
       "'My\\nname is\\nAvishek'"
      ]
     },
     "metadata": {},
     "execution_count": 18
    }
   ],
   "metadata": {}
  },
  {
   "cell_type": "markdown",
   "source": [
    "### String are Immutable"
   ],
   "metadata": {}
  },
  {
   "cell_type": "code",
   "execution_count": 19,
   "source": [
    "a = 'Avishek'"
   ],
   "outputs": [],
   "metadata": {}
  },
  {
   "cell_type": "code",
   "execution_count": 20,
   "source": [
    "#This gives a error as lists are immutable\r\n",
    "# a[0] = 'R'"
   ],
   "outputs": [],
   "metadata": {}
  },
  {
   "cell_type": "markdown",
   "source": [
    "### Concatination of 2 Strings"
   ],
   "metadata": {}
  },
  {
   "cell_type": "code",
   "execution_count": 21,
   "source": [
    "a = \"red\"\r\n",
    "a = a + \"blue\"\r\n",
    "a"
   ],
   "outputs": [
    {
     "output_type": "execute_result",
     "data": {
      "text/plain": [
       "'redblue'"
      ]
     },
     "metadata": {},
     "execution_count": 21
    }
   ],
   "metadata": {}
  },
  {
   "cell_type": "code",
   "execution_count": 22,
   "source": [
    "a += 'red'\r\n",
    "a"
   ],
   "outputs": [
    {
     "output_type": "execute_result",
     "data": {
      "text/plain": [
       "'redbluered'"
      ]
     },
     "metadata": {},
     "execution_count": 22
    }
   ],
   "metadata": {}
  },
  {
   "cell_type": "code",
   "execution_count": 23,
   "source": [
    "id(a)"
   ],
   "outputs": [
    {
     "output_type": "execute_result",
     "data": {
      "text/plain": [
       "2723962090160"
      ]
     },
     "metadata": {},
     "execution_count": 23
    }
   ],
   "metadata": {}
  },
  {
   "cell_type": "code",
   "execution_count": 24,
   "source": [
    "a += 'yellow'\r\n",
    "a"
   ],
   "outputs": [
    {
     "output_type": "execute_result",
     "data": {
      "text/plain": [
       "'redblueredyellow'"
      ]
     },
     "metadata": {},
     "execution_count": 24
    }
   ],
   "metadata": {}
  },
  {
   "cell_type": "code",
   "execution_count": 25,
   "source": [
    "# the id of the a's are different -  as stings are immutable\r\n",
    "id(a)"
   ],
   "outputs": [
    {
     "output_type": "execute_result",
     "data": {
      "text/plain": [
       "2723973403312"
      ]
     },
     "metadata": {},
     "execution_count": 25
    }
   ],
   "metadata": {}
  },
  {
   "cell_type": "code",
   "execution_count": 26,
   "source": [
    "a = 'blue'\r\n",
    "a = a*3\r\n",
    "a"
   ],
   "outputs": [
    {
     "output_type": "execute_result",
     "data": {
      "text/plain": [
       "'blueblueblue'"
      ]
     },
     "metadata": {},
     "execution_count": 26
    }
   ],
   "metadata": {}
  },
  {
   "cell_type": "code",
   "execution_count": 27,
   "source": [
    "# python does not add a stringa and a number\r\n",
    "# a = 'red' + 3\r\n",
    "# we can use the str operation and convert the number into a string\r\n",
    "a = 'red' + str(3)\r\n",
    "a"
   ],
   "outputs": [
    {
     "output_type": "execute_result",
     "data": {
      "text/plain": [
       "'red3'"
      ]
     },
     "metadata": {},
     "execution_count": 27
    }
   ],
   "metadata": {}
  },
  {
   "cell_type": "markdown",
   "source": [
    "### Slicing on String"
   ],
   "metadata": {}
  },
  {
   "cell_type": "code",
   "execution_count": 28,
   "source": [
    "# [start:end:step]\r\n",
    "a = 'Avishek'\r\n",
    "a[1:4]"
   ],
   "outputs": [
    {
     "output_type": "execute_result",
     "data": {
      "text/plain": [
       "'vis'"
      ]
     },
     "metadata": {},
     "execution_count": 28
    }
   ],
   "metadata": {}
  },
  {
   "cell_type": "code",
   "execution_count": 29,
   "source": [
    "a[1:4:2]"
   ],
   "outputs": [
    {
     "output_type": "execute_result",
     "data": {
      "text/plain": [
       "'vs'"
      ]
     },
     "metadata": {},
     "execution_count": 29
    }
   ],
   "metadata": {}
  },
  {
   "cell_type": "code",
   "execution_count": 30,
   "source": [
    "a[-5:-3]"
   ],
   "outputs": [
    {
     "output_type": "execute_result",
     "data": {
      "text/plain": [
       "'is'"
      ]
     },
     "metadata": {},
     "execution_count": 30
    }
   ],
   "metadata": {}
  },
  {
   "cell_type": "code",
   "execution_count": 31,
   "source": [
    "a"
   ],
   "outputs": [
    {
     "output_type": "execute_result",
     "data": {
      "text/plain": [
       "'Avishek'"
      ]
     },
     "metadata": {},
     "execution_count": 31
    }
   ],
   "metadata": {}
  },
  {
   "cell_type": "code",
   "execution_count": 32,
   "source": [
    "a[::-1]"
   ],
   "outputs": [
    {
     "output_type": "execute_result",
     "data": {
      "text/plain": [
       "'kehsivA'"
      ]
     },
     "metadata": {},
     "execution_count": 32
    }
   ],
   "metadata": {}
  },
  {
   "cell_type": "code",
   "execution_count": 33,
   "source": [
    "a[:3:-1]"
   ],
   "outputs": [
    {
     "output_type": "execute_result",
     "data": {
      "text/plain": [
       "'keh'"
      ]
     },
     "metadata": {},
     "execution_count": 33
    }
   ],
   "metadata": {}
  },
  {
   "cell_type": "markdown",
   "source": [
    "### Iterating on Strings"
   ],
   "metadata": {}
  },
  {
   "cell_type": "code",
   "execution_count": 34,
   "source": [
    "str = 'Hello World' "
   ],
   "outputs": [],
   "metadata": {}
  },
  {
   "cell_type": "code",
   "execution_count": 35,
   "source": [
    "# Approach 1\r\n",
    "for i in str:\r\n",
    "    print(i)"
   ],
   "outputs": [
    {
     "output_type": "stream",
     "name": "stdout",
     "text": [
      "H\n",
      "e\n",
      "l\n",
      "l\n",
      "o\n",
      " \n",
      "W\n",
      "o\n",
      "r\n",
      "l\n",
      "d\n"
     ]
    }
   ],
   "metadata": {}
  },
  {
   "cell_type": "code",
   "execution_count": 36,
   "source": [
    "# Approach 2 - if we need the index\r\n",
    "for i in range(len(str)):\r\n",
    "    print(str[i])    "
   ],
   "outputs": [
    {
     "output_type": "stream",
     "name": "stdout",
     "text": [
      "H\n",
      "e\n",
      "l\n",
      "l\n",
      "o\n",
      " \n",
      "W\n",
      "o\n",
      "r\n",
      "l\n",
      "d\n"
     ]
    }
   ],
   "metadata": {}
  },
  {
   "cell_type": "code",
   "execution_count": 37,
   "source": [
    "# Calculate how many times 'l' appers in the strings \r\n",
    "count = 0\r\n",
    "for i in str:\r\n",
    "    if (i == 'l'):\r\n",
    "        count += 1\r\n",
    "print(count)"
   ],
   "outputs": [
    {
     "output_type": "stream",
     "name": "stdout",
     "text": [
      "3\n"
     ]
    }
   ],
   "metadata": {}
  },
  {
   "cell_type": "code",
   "execution_count": 38,
   "source": [
    "count = 0\r\n",
    "for i in range(len(str)):\r\n",
    "    if (str[i] == 'l'):\r\n",
    "        count += 1\r\n",
    "print(count)"
   ],
   "outputs": [
    {
     "output_type": "stream",
     "name": "stdout",
     "text": [
      "3\n"
     ]
    }
   ],
   "metadata": {}
  },
  {
   "cell_type": "markdown",
   "source": [
    "### In and Not in operation"
   ],
   "metadata": {}
  },
  {
   "cell_type": "markdown",
   "source": [
    "Starting from any character and a continious part of the string. Can't go backwards  \r\n",
    "if we want to check if a string is a substring or not we can use the in opereator"
   ],
   "metadata": {}
  },
  {
   "cell_type": "code",
   "execution_count": 39,
   "source": [
    "str = 'hello'\r\n",
    "a = 'hel'\r\n",
    "if a in str:\r\n",
    "    print ('yes it is a substring')\r\n",
    "else:\r\n",
    "    print('not a substring')"
   ],
   "outputs": [
    {
     "output_type": "stream",
     "name": "stdout",
     "text": [
      "yes it is a substring\n"
     ]
    }
   ],
   "metadata": {}
  },
  {
   "cell_type": "markdown",
   "source": [
    "### Comparison operators on strings"
   ],
   "metadata": {}
  },
  {
   "cell_type": "code",
   "execution_count": 40,
   "source": [
    "a = \"Avishek\" == \"Avishek\"\r\n",
    "a"
   ],
   "outputs": [
    {
     "output_type": "execute_result",
     "data": {
      "text/plain": [
       "True"
      ]
     },
     "metadata": {},
     "execution_count": 40
    }
   ],
   "metadata": {}
  },
  {
   "cell_type": "code",
   "execution_count": 41,
   "source": [
    "# Compared on the basis of ASSCI\r\n",
    "a = 'Avisehk' >= 'Abhishek'\r\n",
    "a"
   ],
   "outputs": [
    {
     "output_type": "execute_result",
     "data": {
      "text/plain": [
       "True"
      ]
     },
     "metadata": {},
     "execution_count": 41
    }
   ],
   "metadata": {}
  },
  {
   "cell_type": "code",
   "execution_count": 42,
   "source": [
    "# Smaller letters have a greater ASSCI values\r\n",
    "a = 'avishek' >= 'Avishek'\r\n",
    "a"
   ],
   "outputs": [
    {
     "output_type": "execute_result",
     "data": {
      "text/plain": [
       "True"
      ]
     },
     "metadata": {},
     "execution_count": 42
    }
   ],
   "metadata": {}
  },
  {
   "cell_type": "code",
   "execution_count": 43,
   "source": [
    "# if alll he char are same but the length is not = then who so evers length is more will have the greater value\r\n",
    "a = 'avi' >= 'Avishek'\r\n",
    "a"
   ],
   "outputs": [
    {
     "output_type": "execute_result",
     "data": {
      "text/plain": [
       "True"
      ]
     },
     "metadata": {},
     "execution_count": 43
    }
   ],
   "metadata": {}
  },
  {
   "cell_type": "markdown",
   "source": [
    "<pre>\r\n",
    "Check Palindrome\r\n",
    "\r\n",
    "Given a string, determine if it is a palindrome, considering only alphanumeric characters.\r\n",
    "Palindrome\r\n",
    "A palindrome is a word, number, phrase, or other sequences of characters which read the same backwards and forwards.\r\n",
    "Example:\r\n",
    "If the input string happens to be, \"malayalam\" then as we see that this word can be read the same as forward and backwards, it is said to be a valid palindrome.\r\n",
    "\r\n",
    "The expected output for this example will print, 'true'.\r\n",
    "From that being said, you are required to return a boolean value from the function that has been asked to implement.\r\n",
    "Input Format:\r\n",
    "The first and only line of input contains a string without any leading and trailing spaces. All the characters in the string would be in lower case.\r\n",
    "Output Format:\r\n",
    "The only line of output prints either 'true' or 'false'.\r\n",
    "Note:\r\n",
    "You are not required to print anything. It has already been taken care of.\r\n",
    "Constraints:\r\n",
    "0 <= N <= 10^6\r\n",
    "Where N is the length of the input string.\r\n",
    "\r\n",
    "Time Limit: 1 second\r\n",
    "Sample Input 1 :\r\n",
    "abcdcba\r\n",
    "Sample Output 1 :\r\n",
    "true \r\n",
    "Sample Input 2:\r\n",
    "coding\r\n",
    "Sample Output 2:\r\n",
    "false\r\n",
    "</pre>"
   ],
   "metadata": {}
  },
  {
   "cell_type": "code",
   "execution_count": 44,
   "source": [
    "# Aproach 1 - not that good of a solution\r\n",
    "def isPalindrome(string):\r\n",
    "    temp = string[::-1]\r\n",
    "    if string == temp:\r\n",
    "        return True\r\n",
    "    else:\r\n",
    "        return False\r\n",
    "\r\n",
    "a = isPalindrome('aja')\r\n",
    "print(a)"
   ],
   "outputs": [
    {
     "output_type": "stream",
     "name": "stdout",
     "text": [
      "True\n"
     ]
    }
   ],
   "metadata": {}
  },
  {
   "cell_type": "code",
   "execution_count": 45,
   "source": [
    "# Approach 2 - better as will break as soon as any os the indices so not match\r\n",
    "# Time Complexity - O(N), Space Complexity O(1)\r\n",
    "def isPalindrome(string):\r\n",
    "    for i in range(len(string)):\r\n",
    "        if string[i] != string[-i-1]:\r\n",
    "            return False\r\n",
    "    else:\r\n",
    "        return True\r\n",
    "\r\n",
    "a = isPalindrome('codingc')\r\n",
    "print(a)\r\n"
   ],
   "outputs": [
    {
     "output_type": "stream",
     "name": "stdout",
     "text": [
      "False\n"
     ]
    }
   ],
   "metadata": {}
  },
  {
   "cell_type": "code",
   "execution_count": 46,
   "source": [
    "def isPalindrome(string) :\r\n",
    "    left = 0    \r\n",
    "    right = len(string) - 1    \r\n",
    "    while left < right :        \r\n",
    "        if string[left] != string[right] :            \r\n",
    "            return False        \r\n",
    "        left += 1        \r\n",
    "        right -= 1    \r\n",
    "    return True\r\n",
    "\r\n",
    "a = isPalindrome('abcdcba')\r\n",
    "print(a)"
   ],
   "outputs": [
    {
     "output_type": "stream",
     "name": "stdout",
     "text": [
      "True\n"
     ]
    }
   ],
   "metadata": {}
  },
  {
   "cell_type": "markdown",
   "source": [
    "### Operations on a string"
   ],
   "metadata": {}
  },
  {
   "cell_type": "markdown",
   "source": [
    "#### Split function"
   ],
   "metadata": {}
  },
  {
   "cell_type": "code",
   "execution_count": 2,
   "source": [
    "a = 'My name is Avisehk Roy'\r\n",
    "li  =  a.split()\r\n",
    "print(li)\r\n",
    "# returns a list"
   ],
   "outputs": [
    {
     "output_type": "stream",
     "name": "stdout",
     "text": [
      "['My', 'name', 'is', 'Avisehk', 'Roy']\n"
     ]
    }
   ],
   "metadata": {}
  },
  {
   "cell_type": "code",
   "execution_count": 47,
   "source": [
    "a = 'My,name,is,Avisehk,Roy'\r\n",
    "li  =  a.split(',')\r\n",
    "print(li)"
   ],
   "outputs": [
    {
     "output_type": "stream",
     "name": "stdout",
     "text": [
      "['My', 'name', 'is', 'Avisehk', 'Roy']\n"
     ]
    }
   ],
   "metadata": {}
  },
  {
   "cell_type": "markdown",
   "source": [
    "##### maxsplit"
   ],
   "metadata": {}
  },
  {
   "cell_type": "code",
   "execution_count": 48,
   "source": [
    "# Default argument is all the elemnts to be split, but we can specify then number of elements we would like it to split\r\n",
    "a = 'My name is Avisehk Roy'\r\n",
    "li  =  a.split(' ', 1) # the maxsplit splits the string into i+1 items so if I give it 1 then the string will be split into 2 items\r\n",
    "print(li)"
   ],
   "outputs": [
    {
     "output_type": "stream",
     "name": "stdout",
     "text": [
      "['My', 'name is Avisehk Roy']\n"
     ]
    }
   ],
   "metadata": {}
  },
  {
   "cell_type": "code",
   "execution_count": 49,
   "source": [
    "a = 'My name is Avisehk Roy'\r\n",
    "li  =  a.split(' ', 2)\r\n",
    "print(li)"
   ],
   "outputs": [
    {
     "output_type": "stream",
     "name": "stdout",
     "text": [
      "['My', 'name', 'is Avisehk Roy']\n"
     ]
    }
   ],
   "metadata": {}
  },
  {
   "cell_type": "markdown",
   "source": [
    "#### Replace"
   ],
   "metadata": {}
  },
  {
   "cell_type": "code",
   "execution_count": 51,
   "source": [
    "str = 'My name is Parik Roy'\r\n",
    "str.replace(\"Parik\", \"Avishek\")\r\n",
    "str\r\n",
    "# does not make any changes in str, as strings are immutable"
   ],
   "outputs": [
    {
     "output_type": "execute_result",
     "data": {
      "text/plain": [
       "'My name is Parik Roy'"
      ]
     },
     "metadata": {},
     "execution_count": 51
    }
   ],
   "metadata": {}
  },
  {
   "cell_type": "code",
   "execution_count": 52,
   "source": [
    "str = 'My name is Parik Roy'\r\n",
    "str = str.replace(\"Parik\", \"Avishek\")\r\n",
    "str"
   ],
   "outputs": [
    {
     "output_type": "execute_result",
     "data": {
      "text/plain": [
       "'My name is Avishek Roy'"
      ]
     },
     "metadata": {},
     "execution_count": 52
    }
   ],
   "metadata": {}
  },
  {
   "cell_type": "code",
   "execution_count": 53,
   "source": [
    "str = 'I am writing Rohan three times as Rohan will be replaced Rohan'\r\n",
    "str = str.replace(\"Rohan\", \"Avishek\")\r\n",
    "str"
   ],
   "outputs": [
    {
     "output_type": "execute_result",
     "data": {
      "text/plain": [
       "'I am writing Avishek three times as Avishek will be replaced Avishek'"
      ]
     },
     "metadata": {},
     "execution_count": 53
    }
   ],
   "metadata": {}
  },
  {
   "cell_type": "code",
   "execution_count": 54,
   "source": [
    "# If we want to specify that we want to replace only two Rohans in the statement, we can do that\r\n",
    "str = 'I am writing Rohan three times as Rohan will be replaced Rohan'\r\n",
    "str = str.replace(\"Rohan\", \"Avishek\",2)\r\n",
    "str"
   ],
   "outputs": [
    {
     "output_type": "execute_result",
     "data": {
      "text/plain": [
       "'I am writing Avishek three times as Avishek will be replaced Rohan'"
      ]
     },
     "metadata": {},
     "execution_count": 54
    }
   ],
   "metadata": {}
  },
  {
   "cell_type": "markdown",
   "source": [
    "#### Find"
   ],
   "metadata": {}
  },
  {
   "cell_type": "code",
   "execution_count": 55,
   "source": [
    "# finds returns the starting index of a substring if it is present inside a substring\r\n",
    "str = 'My name is Avishek'\r\n",
    "index  = str.find('Avi')\r\n",
    "print(index)"
   ],
   "outputs": [
    {
     "output_type": "stream",
     "name": "stdout",
     "text": [
      "11\n"
     ]
    }
   ],
   "metadata": {}
  },
  {
   "cell_type": "code",
   "execution_count": 56,
   "source": [
    "# If the index is not present the it will return -1\r\n",
    "str = 'My name is Avishek'\r\n",
    "index  = str.find('Avik')\r\n",
    "print(index)"
   ],
   "outputs": [
    {
     "output_type": "stream",
     "name": "stdout",
     "text": [
      "-1\n"
     ]
    }
   ],
   "metadata": {}
  },
  {
   "cell_type": "code",
   "execution_count": 75,
   "source": [
    "# we can specify to find the substring in a particular part of the string\r\n",
    "str = 'My name is Avishek. People call me as avi which is a short form for Avishek'\r\n",
    "index  = str.find('Avishek', 59,76)\r\n",
    "print(index)"
   ],
   "outputs": [
    {
     "output_type": "stream",
     "name": "stdout",
     "text": [
      "68\n"
     ]
    }
   ],
   "metadata": {}
  },
  {
   "cell_type": "markdown",
   "source": [
    "#### lower and upper"
   ],
   "metadata": {}
  },
  {
   "cell_type": "code",
   "execution_count": 76,
   "source": [
    "a = 'My name is Avishek'\r\n",
    "a = a.lower()\r\n",
    "print(a)\r\n",
    "a = a.upper()\r\n",
    "print(a)"
   ],
   "outputs": [
    {
     "output_type": "stream",
     "name": "stdout",
     "text": [
      "my name is avishek\n",
      "MY NAME IS AVISHEK\n"
     ]
    }
   ],
   "metadata": {}
  },
  {
   "cell_type": "markdown",
   "source": [
    "#### starts with"
   ],
   "metadata": {}
  },
  {
   "cell_type": "code",
   "execution_count": 77,
   "source": [
    "# weather a string is starting with the specified substring - return  a boolean\r\n",
    "str = 'My name is Avisehk'\r\n",
    "a = str.startswith('My n')\r\n",
    "print(a)"
   ],
   "outputs": [
    {
     "output_type": "stream",
     "name": "stdout",
     "text": [
      "True\n"
     ]
    }
   ],
   "metadata": {}
  },
  {
   "cell_type": "code",
   "execution_count": 78,
   "source": [
    "str = 'My name is Avisehk'\r\n",
    "a = str.startswith('name',3)\r\n",
    "print(a)"
   ],
   "outputs": [
    {
     "output_type": "stream",
     "name": "stdout",
     "text": [
      "True\n"
     ]
    }
   ],
   "metadata": {}
  },
  {
   "cell_type": "markdown",
   "source": [
    "### Replace character in a string"
   ],
   "metadata": {}
  },
  {
   "cell_type": "code",
   "execution_count": 81,
   "source": [
    "def replaceChar(string, chr1, chr2):\r\n",
    "    newStr = '' # we have to make a new string because we cannot make changes into the main string as we know that strings are immutable\r\n",
    "    for i in string:\r\n",
    "        if(i == chr1):\r\n",
    "            newStr += chr2\r\n",
    "        else:\r\n",
    "            newStr += i\r\n",
    "    return newStr\r\n",
    "\r\n",
    "a = replaceChar('halla','a','o')\r\n",
    "print(a)"
   ],
   "outputs": [
    {
     "output_type": "stream",
     "name": "stdout",
     "text": [
      "hollo\n"
     ]
    }
   ],
   "metadata": {}
  },
  {
   "cell_type": "markdown",
   "source": [
    "### Count - Vowals, Consonents, Digits & Special Character in Srtings"
   ],
   "metadata": {}
  },
  {
   "cell_type": "code",
   "execution_count": 84,
   "source": [
    "def countInString(str):\r\n",
    "    v,c,d,s = 0,0,0,0\r\n",
    "    for char in str:\r\n",
    "        if ( (char >= 'a'and char <= 'z') or (char >= 'A' and char <= 'Z') ): # either a vowal or a consonent\r\n",
    "            char = char.lower()\r\n",
    "            if (char =='a'or char =='e' or char =='i'or char =='o' or char =='u'):\r\n",
    "                v+=1\r\n",
    "            else:\r\n",
    "                c+=1\r\n",
    "        elif( char>=\"0\" or char<=\"9\" ):\r\n",
    "            d+=1\r\n",
    "        else:\r\n",
    "            s+=1        \r\n",
    "    return v,c,d,s       \r\n",
    "            \r\n",
    "string = 'hfAafsHjsld3$3*sdF$%@*'\r\n",
    "v,c,d,s = countInString(str)\r\n",
    "print(v,c,d,s)"
   ],
   "outputs": [
    {
     "output_type": "stream",
     "name": "stdout",
     "text": [
      "6 9 3 0\n"
     ]
    }
   ],
   "metadata": {}
  }
 ],
 "metadata": {
  "orig_nbformat": 4,
  "language_info": {
   "name": "python"
  }
 },
 "nbformat": 4,
 "nbformat_minor": 2
}