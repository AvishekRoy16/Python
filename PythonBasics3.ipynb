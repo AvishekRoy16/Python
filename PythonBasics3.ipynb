{
 "cells": [
  {
   "cell_type": "markdown",
   "source": [
    "# Python Basics 3"
   ],
   "metadata": {}
  },
  {
   "cell_type": "markdown",
   "source": [
    "Contents:\r\n",
    "* Strings\r\n",
    "* 2D Lists"
   ],
   "metadata": {}
  },
  {
   "cell_type": "markdown",
   "source": [
    "## String"
   ],
   "metadata": {}
  },
  {
   "cell_type": "markdown",
   "source": [
    "### Initialisation"
   ],
   "metadata": {}
  },
  {
   "cell_type": "code",
   "execution_count": 3,
   "source": [
    "a = 'Avishek'"
   ],
   "outputs": [],
   "metadata": {}
  },
  {
   "cell_type": "code",
   "execution_count": 4,
   "source": [
    "print(a)"
   ],
   "outputs": [
    {
     "output_type": "stream",
     "name": "stdout",
     "text": [
      "Avishek\n"
     ]
    }
   ],
   "metadata": {}
  },
  {
   "cell_type": "code",
   "execution_count": 5,
   "source": [
    "a = \"Avishek\""
   ],
   "outputs": [],
   "metadata": {}
  },
  {
   "cell_type": "code",
   "execution_count": 6,
   "source": [
    "print(a)"
   ],
   "outputs": [
    {
     "output_type": "stream",
     "name": "stdout",
     "text": [
      "Avishek\n"
     ]
    }
   ],
   "metadata": {}
  },
  {
   "cell_type": "code",
   "execution_count": 7,
   "source": [
    "a = '''Avishek'''"
   ],
   "outputs": [],
   "metadata": {}
  },
  {
   "cell_type": "code",
   "execution_count": 8,
   "source": [
    "print(a)"
   ],
   "outputs": [
    {
     "output_type": "stream",
     "name": "stdout",
     "text": [
      "Avishek\n"
     ]
    }
   ],
   "metadata": {}
  },
  {
   "cell_type": "markdown",
   "source": [
    "### Multiline string"
   ],
   "metadata": {}
  },
  {
   "cell_type": "code",
   "execution_count": 9,
   "source": [
    "# Advntage of the trinple quotes - Multiline string\r\n",
    "b = '''My \r\n",
    "name is\r\n",
    "Avishek Roy'''"
   ],
   "outputs": [],
   "metadata": {}
  },
  {
   "cell_type": "code",
   "execution_count": 10,
   "source": [
    "print(b)"
   ],
   "outputs": [
    {
     "output_type": "stream",
     "name": "stdout",
     "text": [
      "My \n",
      "name is\n",
      "Avishek Roy\n"
     ]
    }
   ],
   "metadata": {}
  },
  {
   "cell_type": "markdown",
   "source": [
    "### String Indexing"
   ],
   "metadata": {}
  },
  {
   "cell_type": "code",
   "execution_count": 11,
   "source": [
    "# The concept of indexing is quite similar to that of indxing in lists\r\n",
    "a = 'Avishek'"
   ],
   "outputs": [],
   "metadata": {}
  },
  {
   "cell_type": "code",
   "execution_count": 12,
   "source": [
    "a[0]"
   ],
   "outputs": [
    {
     "output_type": "execute_result",
     "data": {
      "text/plain": [
       "'A'"
      ]
     },
     "metadata": {},
     "execution_count": 12
    }
   ],
   "metadata": {}
  },
  {
   "cell_type": "code",
   "execution_count": 13,
   "source": [
    "a[6]"
   ],
   "outputs": [
    {
     "output_type": "execute_result",
     "data": {
      "text/plain": [
       "'k'"
      ]
     },
     "metadata": {},
     "execution_count": 13
    }
   ],
   "metadata": {}
  },
  {
   "cell_type": "code",
   "execution_count": 14,
   "source": [
    "a[-1]"
   ],
   "outputs": [
    {
     "output_type": "execute_result",
     "data": {
      "text/plain": [
       "'k'"
      ]
     },
     "metadata": {},
     "execution_count": 14
    }
   ],
   "metadata": {}
  },
  {
   "cell_type": "code",
   "execution_count": 15,
   "source": [
    "a = '''My\r\n",
    "name is\r\n",
    "Avishek'''"
   ],
   "outputs": [],
   "metadata": {}
  },
  {
   "cell_type": "code",
   "execution_count": 16,
   "source": [
    "a[0]"
   ],
   "outputs": [
    {
     "output_type": "execute_result",
     "data": {
      "text/plain": [
       "'M'"
      ]
     },
     "metadata": {},
     "execution_count": 16
    }
   ],
   "metadata": {}
  },
  {
   "cell_type": "code",
   "execution_count": 17,
   "source": [
    "# When we go to the new line the index is taken by new line character\r\n",
    "a[2]"
   ],
   "outputs": [
    {
     "output_type": "execute_result",
     "data": {
      "text/plain": [
       "'\\n'"
      ]
     },
     "metadata": {},
     "execution_count": 17
    }
   ],
   "metadata": {}
  },
  {
   "cell_type": "code",
   "execution_count": 18,
   "source": [
    "a"
   ],
   "outputs": [
    {
     "output_type": "execute_result",
     "data": {
      "text/plain": [
       "'My\\nname is\\nAvishek'"
      ]
     },
     "metadata": {},
     "execution_count": 18
    }
   ],
   "metadata": {}
  },
  {
   "cell_type": "markdown",
   "source": [
    "### String are Immutable"
   ],
   "metadata": {}
  },
  {
   "cell_type": "code",
   "execution_count": 19,
   "source": [
    "a = 'Avishek'"
   ],
   "outputs": [],
   "metadata": {}
  },
  {
   "cell_type": "code",
   "execution_count": 20,
   "source": [
    "#This gives a error as lists are immutable\r\n",
    "# a[0] = 'R'"
   ],
   "outputs": [],
   "metadata": {}
  },
  {
   "cell_type": "markdown",
   "source": [
    "### Concatination of 2 Strings"
   ],
   "metadata": {}
  },
  {
   "cell_type": "code",
   "execution_count": 21,
   "source": [
    "a = \"red\"\r\n",
    "a = a + \"blue\"\r\n",
    "a"
   ],
   "outputs": [
    {
     "output_type": "execute_result",
     "data": {
      "text/plain": [
       "'redblue'"
      ]
     },
     "metadata": {},
     "execution_count": 21
    }
   ],
   "metadata": {}
  },
  {
   "cell_type": "code",
   "execution_count": 22,
   "source": [
    "a += 'red'\r\n",
    "a"
   ],
   "outputs": [
    {
     "output_type": "execute_result",
     "data": {
      "text/plain": [
       "'redbluered'"
      ]
     },
     "metadata": {},
     "execution_count": 22
    }
   ],
   "metadata": {}
  },
  {
   "cell_type": "code",
   "execution_count": 23,
   "source": [
    "id(a)"
   ],
   "outputs": [
    {
     "output_type": "execute_result",
     "data": {
      "text/plain": [
       "2723962090160"
      ]
     },
     "metadata": {},
     "execution_count": 23
    }
   ],
   "metadata": {}
  },
  {
   "cell_type": "code",
   "execution_count": 24,
   "source": [
    "a += 'yellow'\r\n",
    "a"
   ],
   "outputs": [
    {
     "output_type": "execute_result",
     "data": {
      "text/plain": [
       "'redblueredyellow'"
      ]
     },
     "metadata": {},
     "execution_count": 24
    }
   ],
   "metadata": {}
  },
  {
   "cell_type": "code",
   "execution_count": 25,
   "source": [
    "# the id of the a's are different -  as stings are immutable\r\n",
    "id(a)"
   ],
   "outputs": [
    {
     "output_type": "execute_result",
     "data": {
      "text/plain": [
       "2723973403312"
      ]
     },
     "metadata": {},
     "execution_count": 25
    }
   ],
   "metadata": {}
  },
  {
   "cell_type": "code",
   "execution_count": 26,
   "source": [
    "a = 'blue'\r\n",
    "a = a*3\r\n",
    "a"
   ],
   "outputs": [
    {
     "output_type": "execute_result",
     "data": {
      "text/plain": [
       "'blueblueblue'"
      ]
     },
     "metadata": {},
     "execution_count": 26
    }
   ],
   "metadata": {}
  },
  {
   "cell_type": "code",
   "execution_count": 27,
   "source": [
    "# python does not add a stringa and a number\r\n",
    "# a = 'red' + 3\r\n",
    "# we can use the str operation and convert the number into a string\r\n",
    "a = 'red' + str(3)\r\n",
    "a"
   ],
   "outputs": [
    {
     "output_type": "execute_result",
     "data": {
      "text/plain": [
       "'red3'"
      ]
     },
     "metadata": {},
     "execution_count": 27
    }
   ],
   "metadata": {}
  },
  {
   "cell_type": "markdown",
   "source": [
    "### Slicing on String"
   ],
   "metadata": {}
  },
  {
   "cell_type": "code",
   "execution_count": 28,
   "source": [
    "# [start:end:step]\r\n",
    "a = 'Avishek'\r\n",
    "a[1:4]"
   ],
   "outputs": [
    {
     "output_type": "execute_result",
     "data": {
      "text/plain": [
       "'vis'"
      ]
     },
     "metadata": {},
     "execution_count": 28
    }
   ],
   "metadata": {}
  },
  {
   "cell_type": "code",
   "execution_count": 29,
   "source": [
    "a[1:4:2]"
   ],
   "outputs": [
    {
     "output_type": "execute_result",
     "data": {
      "text/plain": [
       "'vs'"
      ]
     },
     "metadata": {},
     "execution_count": 29
    }
   ],
   "metadata": {}
  },
  {
   "cell_type": "code",
   "execution_count": 30,
   "source": [
    "a[-5:-3]"
   ],
   "outputs": [
    {
     "output_type": "execute_result",
     "data": {
      "text/plain": [
       "'is'"
      ]
     },
     "metadata": {},
     "execution_count": 30
    }
   ],
   "metadata": {}
  },
  {
   "cell_type": "code",
   "execution_count": 31,
   "source": [
    "a"
   ],
   "outputs": [
    {
     "output_type": "execute_result",
     "data": {
      "text/plain": [
       "'Avishek'"
      ]
     },
     "metadata": {},
     "execution_count": 31
    }
   ],
   "metadata": {}
  },
  {
   "cell_type": "code",
   "execution_count": 32,
   "source": [
    "a[::-1]"
   ],
   "outputs": [
    {
     "output_type": "execute_result",
     "data": {
      "text/plain": [
       "'kehsivA'"
      ]
     },
     "metadata": {},
     "execution_count": 32
    }
   ],
   "metadata": {}
  },
  {
   "cell_type": "code",
   "execution_count": 33,
   "source": [
    "a[:3:-1]"
   ],
   "outputs": [
    {
     "output_type": "execute_result",
     "data": {
      "text/plain": [
       "'keh'"
      ]
     },
     "metadata": {},
     "execution_count": 33
    }
   ],
   "metadata": {}
  },
  {
   "cell_type": "markdown",
   "source": [
    "### Iterating on Strings"
   ],
   "metadata": {}
  },
  {
   "cell_type": "code",
   "execution_count": 34,
   "source": [
    "str = 'Hello World' "
   ],
   "outputs": [],
   "metadata": {}
  },
  {
   "cell_type": "code",
   "execution_count": 35,
   "source": [
    "# Approach 1\r\n",
    "for i in str:\r\n",
    "    print(i)"
   ],
   "outputs": [
    {
     "output_type": "stream",
     "name": "stdout",
     "text": [
      "H\n",
      "e\n",
      "l\n",
      "l\n",
      "o\n",
      " \n",
      "W\n",
      "o\n",
      "r\n",
      "l\n",
      "d\n"
     ]
    }
   ],
   "metadata": {}
  },
  {
   "cell_type": "code",
   "execution_count": 36,
   "source": [
    "# Approach 2 - if we need the index\r\n",
    "for i in range(len(str)):\r\n",
    "    print(str[i])    "
   ],
   "outputs": [
    {
     "output_type": "stream",
     "name": "stdout",
     "text": [
      "H\n",
      "e\n",
      "l\n",
      "l\n",
      "o\n",
      " \n",
      "W\n",
      "o\n",
      "r\n",
      "l\n",
      "d\n"
     ]
    }
   ],
   "metadata": {}
  },
  {
   "cell_type": "code",
   "execution_count": 37,
   "source": [
    "# Calculate how many times 'l' appers in the strings \r\n",
    "count = 0\r\n",
    "for i in str:\r\n",
    "    if (i == 'l'):\r\n",
    "        count += 1\r\n",
    "print(count)"
   ],
   "outputs": [
    {
     "output_type": "stream",
     "name": "stdout",
     "text": [
      "3\n"
     ]
    }
   ],
   "metadata": {}
  },
  {
   "cell_type": "code",
   "execution_count": 38,
   "source": [
    "count = 0\r\n",
    "for i in range(len(str)):\r\n",
    "    if (str[i] == 'l'):\r\n",
    "        count += 1\r\n",
    "print(count)"
   ],
   "outputs": [
    {
     "output_type": "stream",
     "name": "stdout",
     "text": [
      "3\n"
     ]
    }
   ],
   "metadata": {}
  },
  {
   "cell_type": "markdown",
   "source": [
    "### In and Not in operation"
   ],
   "metadata": {}
  },
  {
   "cell_type": "markdown",
   "source": [
    "Starting from any character and a continious part of the string. Can't go backwards  \r\n",
    "if we want to check if a string is a substring or not we can use the in opereator"
   ],
   "metadata": {}
  },
  {
   "cell_type": "code",
   "execution_count": 39,
   "source": [
    "str = 'hello'\r\n",
    "a = 'hel'\r\n",
    "if a in str:\r\n",
    "    print ('yes it is a substring')\r\n",
    "else:\r\n",
    "    print('not a substring')"
   ],
   "outputs": [
    {
     "output_type": "stream",
     "name": "stdout",
     "text": [
      "yes it is a substring\n"
     ]
    }
   ],
   "metadata": {}
  },
  {
   "cell_type": "markdown",
   "source": [
    "### Comparison operators on strings"
   ],
   "metadata": {}
  },
  {
   "cell_type": "code",
   "execution_count": 40,
   "source": [
    "a = \"Avishek\" == \"Avishek\"\r\n",
    "a"
   ],
   "outputs": [
    {
     "output_type": "execute_result",
     "data": {
      "text/plain": [
       "True"
      ]
     },
     "metadata": {},
     "execution_count": 40
    }
   ],
   "metadata": {}
  },
  {
   "cell_type": "code",
   "execution_count": 41,
   "source": [
    "# Compared on the basis of ASSCI\r\n",
    "a = 'Avisehk' >= 'Abhishek'\r\n",
    "a"
   ],
   "outputs": [
    {
     "output_type": "execute_result",
     "data": {
      "text/plain": [
       "True"
      ]
     },
     "metadata": {},
     "execution_count": 41
    }
   ],
   "metadata": {}
  },
  {
   "cell_type": "code",
   "execution_count": 42,
   "source": [
    "# Smaller letters have a greater ASSCI values\r\n",
    "a = 'avishek' >= 'Avishek'\r\n",
    "a"
   ],
   "outputs": [
    {
     "output_type": "execute_result",
     "data": {
      "text/plain": [
       "True"
      ]
     },
     "metadata": {},
     "execution_count": 42
    }
   ],
   "metadata": {}
  },
  {
   "cell_type": "code",
   "execution_count": 43,
   "source": [
    "# if alll he char are same but the length is not = then who so evers length is more will have the greater value\r\n",
    "a = 'avi' >= 'Avishek'\r\n",
    "a"
   ],
   "outputs": [
    {
     "output_type": "execute_result",
     "data": {
      "text/plain": [
       "True"
      ]
     },
     "metadata": {},
     "execution_count": 43
    }
   ],
   "metadata": {}
  },
  {
   "cell_type": "markdown",
   "source": [
    "### Check Palindrome"
   ],
   "metadata": {}
  },
  {
   "cell_type": "markdown",
   "source": [
    "<pre>\r\n",
    "Given a string, determine if it is a palindrome, considering only alphanumeric characters.\r\n",
    "Palindrome\r\n",
    "A palindrome is a word, number, phrase, or other sequences of characters which read the same backwards and forwards.\r\n",
    "Example:\r\n",
    "If the input string happens to be, \"malayalam\" then as we see that this word can be read the same as forward and backwards, it is said to be a valid palindrome.\r\n",
    "\r\n",
    "The expected output for this example will print, 'true'.\r\n",
    "From that being said, you are required to return a boolean value from the function that has been asked to implement.\r\n",
    "Input Format:\r\n",
    "The first and only line of input contains a string without any leading and trailing spaces. All the characters in the string would be in lower case.\r\n",
    "Output Format:\r\n",
    "The only line of output prints either 'true' or 'false'.\r\n",
    "Note:\r\n",
    "You are not required to print anything. It has already been taken care of.\r\n",
    "Constraints:\r\n",
    "0 <= N <= 10^6\r\n",
    "Where N is the length of the input string.\r\n",
    "\r\n",
    "Time Limit: 1 second\r\n",
    "Sample Input 1 :\r\n",
    "abcdcba\r\n",
    "Sample Output 1 :\r\n",
    "true \r\n",
    "Sample Input 2:\r\n",
    "coding\r\n",
    "Sample Output 2:\r\n",
    "false\r\n",
    "</pre>"
   ],
   "metadata": {}
  },
  {
   "cell_type": "code",
   "execution_count": 44,
   "source": [
    "# Aproach 1 - not that good of a solution\r\n",
    "def isPalindrome(string):\r\n",
    "    temp = string[::-1]\r\n",
    "    if string == temp:\r\n",
    "        return True\r\n",
    "    else:\r\n",
    "        return False\r\n",
    "\r\n",
    "a = isPalindrome('aja')\r\n",
    "print(a)"
   ],
   "outputs": [
    {
     "output_type": "stream",
     "name": "stdout",
     "text": [
      "True\n"
     ]
    }
   ],
   "metadata": {}
  },
  {
   "cell_type": "code",
   "execution_count": 45,
   "source": [
    "# Approach 2 - better as will break as soon as any os the indices so not match\r\n",
    "# Time Complexity - O(N), Space Complexity O(1)\r\n",
    "def isPalindrome(string):\r\n",
    "    for i in range(len(string)):\r\n",
    "        if string[i] != string[-i-1]:\r\n",
    "            return False\r\n",
    "    else:\r\n",
    "        return True\r\n",
    "\r\n",
    "a = isPalindrome('codingc')\r\n",
    "print(a)\r\n"
   ],
   "outputs": [
    {
     "output_type": "stream",
     "name": "stdout",
     "text": [
      "False\n"
     ]
    }
   ],
   "metadata": {}
  },
  {
   "cell_type": "code",
   "execution_count": 46,
   "source": [
    "def isPalindrome(string) :\r\n",
    "    left = 0    \r\n",
    "    right = len(string) - 1    \r\n",
    "    while left < right :        \r\n",
    "        if string[left] != string[right] :            \r\n",
    "            return False        \r\n",
    "        left += 1        \r\n",
    "        right -= 1    \r\n",
    "    return True\r\n",
    "\r\n",
    "a = isPalindrome('abcdcba')\r\n",
    "print(a)"
   ],
   "outputs": [
    {
     "output_type": "stream",
     "name": "stdout",
     "text": [
      "True\n"
     ]
    }
   ],
   "metadata": {}
  },
  {
   "cell_type": "markdown",
   "source": [
    "### Operations on a string"
   ],
   "metadata": {}
  },
  {
   "cell_type": "markdown",
   "source": [
    "ord -  converts ASCII into strings  \r\n",
    "chr - convets strings into ASCII"
   ],
   "metadata": {}
  },
  {
   "cell_type": "markdown",
   "source": [
    "#### Split function"
   ],
   "metadata": {}
  },
  {
   "cell_type": "code",
   "execution_count": 2,
   "source": [
    "a = 'My name is Avisehk Roy'\r\n",
    "li  =  a.split()\r\n",
    "print(li)\r\n",
    "# returns a list"
   ],
   "outputs": [
    {
     "output_type": "stream",
     "name": "stdout",
     "text": [
      "['My', 'name', 'is', 'Avisehk', 'Roy']\n"
     ]
    }
   ],
   "metadata": {}
  },
  {
   "cell_type": "code",
   "execution_count": 47,
   "source": [
    "a = 'My,name,is,Avisehk,Roy'\r\n",
    "li  =  a.split(',')\r\n",
    "print(li)"
   ],
   "outputs": [
    {
     "output_type": "stream",
     "name": "stdout",
     "text": [
      "['My', 'name', 'is', 'Avisehk', 'Roy']\n"
     ]
    }
   ],
   "metadata": {}
  },
  {
   "cell_type": "markdown",
   "source": [
    "##### maxsplit"
   ],
   "metadata": {}
  },
  {
   "cell_type": "code",
   "execution_count": 48,
   "source": [
    "# Default argument is all the elemnts to be split, but we can specify then number of elements we would like it to split\r\n",
    "a = 'My name is Avisehk Roy'\r\n",
    "li  =  a.split(' ', 1) # the maxsplit splits the string into i+1 items so if I give it 1 then the string will be split into 2 items\r\n",
    "print(li)"
   ],
   "outputs": [
    {
     "output_type": "stream",
     "name": "stdout",
     "text": [
      "['My', 'name is Avisehk Roy']\n"
     ]
    }
   ],
   "metadata": {}
  },
  {
   "cell_type": "code",
   "execution_count": 49,
   "source": [
    "a = 'My name is Avisehk Roy'\r\n",
    "li  =  a.split(' ', 2)\r\n",
    "print(li)"
   ],
   "outputs": [
    {
     "output_type": "stream",
     "name": "stdout",
     "text": [
      "['My', 'name', 'is Avisehk Roy']\n"
     ]
    }
   ],
   "metadata": {}
  },
  {
   "cell_type": "markdown",
   "source": [
    "#### Replace"
   ],
   "metadata": {}
  },
  {
   "cell_type": "code",
   "execution_count": 51,
   "source": [
    "str = 'My name is Parik Roy'\r\n",
    "str.replace(\"Parik\", \"Avishek\")\r\n",
    "str\r\n",
    "# does not make any changes in str, as strings are immutable"
   ],
   "outputs": [
    {
     "output_type": "execute_result",
     "data": {
      "text/plain": [
       "'My name is Parik Roy'"
      ]
     },
     "metadata": {},
     "execution_count": 51
    }
   ],
   "metadata": {}
  },
  {
   "cell_type": "code",
   "execution_count": 52,
   "source": [
    "str = 'My name is Parik Roy'\r\n",
    "str = str.replace(\"Parik\", \"Avishek\")\r\n",
    "str"
   ],
   "outputs": [
    {
     "output_type": "execute_result",
     "data": {
      "text/plain": [
       "'My name is Avishek Roy'"
      ]
     },
     "metadata": {},
     "execution_count": 52
    }
   ],
   "metadata": {}
  },
  {
   "cell_type": "code",
   "execution_count": 53,
   "source": [
    "str = 'I am writing Rohan three times as Rohan will be replaced Rohan'\r\n",
    "str = str.replace(\"Rohan\", \"Avishek\")\r\n",
    "str"
   ],
   "outputs": [
    {
     "output_type": "execute_result",
     "data": {
      "text/plain": [
       "'I am writing Avishek three times as Avishek will be replaced Avishek'"
      ]
     },
     "metadata": {},
     "execution_count": 53
    }
   ],
   "metadata": {}
  },
  {
   "cell_type": "code",
   "execution_count": 54,
   "source": [
    "# If we want to specify that we want to replace only two Rohans in the statement, we can do that\r\n",
    "str = 'I am writing Rohan three times as Rohan will be replaced Rohan'\r\n",
    "str = str.replace(\"Rohan\", \"Avishek\",2)\r\n",
    "str"
   ],
   "outputs": [
    {
     "output_type": "execute_result",
     "data": {
      "text/plain": [
       "'I am writing Avishek three times as Avishek will be replaced Rohan'"
      ]
     },
     "metadata": {},
     "execution_count": 54
    }
   ],
   "metadata": {}
  },
  {
   "cell_type": "markdown",
   "source": [
    "#### Find"
   ],
   "metadata": {}
  },
  {
   "cell_type": "code",
   "execution_count": 55,
   "source": [
    "# finds returns the starting index of a substring if it is present inside a substring\r\n",
    "str = 'My name is Avishek'\r\n",
    "index  = str.find('Avi')\r\n",
    "print(index)"
   ],
   "outputs": [
    {
     "output_type": "stream",
     "name": "stdout",
     "text": [
      "11\n"
     ]
    }
   ],
   "metadata": {}
  },
  {
   "cell_type": "code",
   "execution_count": 56,
   "source": [
    "# If the index is not present the it will return -1\r\n",
    "str = 'My name is Avishek'\r\n",
    "index  = str.find('Avik')\r\n",
    "print(index)"
   ],
   "outputs": [
    {
     "output_type": "stream",
     "name": "stdout",
     "text": [
      "-1\n"
     ]
    }
   ],
   "metadata": {}
  },
  {
   "cell_type": "code",
   "execution_count": 75,
   "source": [
    "# we can specify to find the substring in a particular part of the string\r\n",
    "str = 'My name is Avishek. People call me as avi which is a short form for Avishek'\r\n",
    "index  = str.find('Avishek', 59,76)\r\n",
    "print(index)"
   ],
   "outputs": [
    {
     "output_type": "stream",
     "name": "stdout",
     "text": [
      "68\n"
     ]
    }
   ],
   "metadata": {}
  },
  {
   "cell_type": "markdown",
   "source": [
    "#### lower and upper"
   ],
   "metadata": {}
  },
  {
   "cell_type": "code",
   "execution_count": 76,
   "source": [
    "a = 'My name is Avishek'\r\n",
    "a = a.lower()\r\n",
    "print(a)\r\n",
    "a = a.upper()\r\n",
    "print(a)"
   ],
   "outputs": [
    {
     "output_type": "stream",
     "name": "stdout",
     "text": [
      "my name is avishek\n",
      "MY NAME IS AVISHEK\n"
     ]
    }
   ],
   "metadata": {}
  },
  {
   "cell_type": "markdown",
   "source": [
    "#### starts with"
   ],
   "metadata": {}
  },
  {
   "cell_type": "code",
   "execution_count": 77,
   "source": [
    "# weather a string is starting with the specified substring - return  a boolean\r\n",
    "str = 'My name is Avisehk'\r\n",
    "a = str.startswith('My n')\r\n",
    "print(a)"
   ],
   "outputs": [
    {
     "output_type": "stream",
     "name": "stdout",
     "text": [
      "True\n"
     ]
    }
   ],
   "metadata": {}
  },
  {
   "cell_type": "code",
   "execution_count": 78,
   "source": [
    "str = 'My name is Avisehk'\r\n",
    "a = str.startswith('name',3)\r\n",
    "print(a)"
   ],
   "outputs": [
    {
     "output_type": "stream",
     "name": "stdout",
     "text": [
      "True\n"
     ]
    }
   ],
   "metadata": {}
  },
  {
   "cell_type": "markdown",
   "source": [
    "### Replace character in a string"
   ],
   "metadata": {}
  },
  {
   "cell_type": "code",
   "execution_count": 81,
   "source": [
    "def replaceChar(string, chr1, chr2):\r\n",
    "    newStr = '' # we have to make a new string because we cannot make changes into the main string as we know that strings are immutable\r\n",
    "    for i in string:\r\n",
    "        if(i == chr1):\r\n",
    "            newStr += chr2\r\n",
    "        else:\r\n",
    "            newStr += i\r\n",
    "    return newStr\r\n",
    "\r\n",
    "a = replaceChar('halla','a','o')\r\n",
    "print(a)"
   ],
   "outputs": [
    {
     "output_type": "stream",
     "name": "stdout",
     "text": [
      "hollo\n"
     ]
    }
   ],
   "metadata": {}
  },
  {
   "cell_type": "markdown",
   "source": [
    "### Count - Vowals, Consonents, Digits & Special Character in Srtings"
   ],
   "metadata": {}
  },
  {
   "cell_type": "code",
   "execution_count": 90,
   "source": [
    "def countInString(str):\r\n",
    "    v,c,d,s = 0,0,0,0\r\n",
    "    for char in str:\r\n",
    "        if ( (char >= 'a'and char <= 'z') or (char >= 'A' and char <= 'Z') ): # either a vowal or a consonent\r\n",
    "            char = char.lower()\r\n",
    "            if (char =='a'or char =='e' or char =='i'or char =='o' or char =='u'):\r\n",
    "                v+=1\r\n",
    "            else:\r\n",
    "                c+=1\r\n",
    "        elif( char >= \"0\" or char <= \"9\" ):\r\n",
    "            d+=1\r\n",
    "        else:\r\n",
    "            s+=1   \r\n",
    "    return v,c,d,s       \r\n",
    "            \r\n",
    "string = 'hfAafsHjsld3$3*sdF$%@*'\r\n",
    "v,c,d,s = countInString(str)\r\n",
    "print(v,c,d,s)"
   ],
   "outputs": [
    {
     "output_type": "stream",
     "name": "stdout",
     "text": [
      "6 9 3 0\n"
     ]
    }
   ],
   "metadata": {}
  },
  {
   "cell_type": "markdown",
   "source": [
    "### Question 1 - Check Permutation"
   ],
   "metadata": {}
  },
  {
   "cell_type": "markdown",
   "source": [
    "<pre>\r\n",
    "For a given two strings, 'str1' and 'str2', check whether they are a permutation of each other or not.\r\n",
    "Permutations of each other\r\n",
    "Two strings are said to be a permutation of each other when either of the string's characters can be rearranged so that it becomes identical to the other one.\r\n",
    "\r\n",
    "Example: \r\n",
    "str1= \"sinrtg\" \r\n",
    "str2 = \"string\"\r\n",
    "\r\n",
    "The character of the first string(str1) can be rearranged to form str2 and hence we can say that the given strings are a permutation of each other.\r\n",
    "Input Format:\r\n",
    "The first line of input contains a string without any leading and trailing spaces, representing the first string 'str1'.\r\n",
    "\r\n",
    "The second line of input contains a string without any leading and trailing spaces, representing the second string 'str2'.\r\n",
    "Note:\r\n",
    "All the characters in the input strings would be in lower case.\r\n",
    "Output Format:\r\n",
    "The only line of output prints either 'true' or 'false', denoting whether the two strings are a permutation of each other or not.\r\n",
    "\r\n",
    "You are not required to print anything. It has already been taken care of. Just implement the function. \r\n",
    "Constraints:\r\n",
    "0 <= N <= 10^6\r\n",
    "Where N is the length of the input string.\r\n",
    "\r\n",
    "Time Limit: 1 second\r\n",
    "Sample Input 1:\r\n",
    "abcde\r\n",
    "baedc\r\n",
    "Sample Output 1:\r\n",
    "true\r\n",
    "Sample Input 2:\r\n",
    "abc\r\n",
    "cbd\r\n",
    "Sample Output 2:\r\n",
    "false\r\n",
    "</pre>"
   ],
   "metadata": {}
  },
  {
   "cell_type": "code",
   "execution_count": 53,
   "source": [
    "def isPermutation(string1, string2) :\r\n",
    "    ptr = 0\r\n",
    "    if len(string1) != len(string2):\r\n",
    "        return False\r\n",
    "    arr = [0]*256\r\n",
    "    for i in range(0,len(string1)):\r\n",
    "        arr[ord(string1[i])] = arr[ord(string1[i])] + 1 \r\n",
    "    for i in range(0,len(string2)):\r\n",
    "        arr[ord(string2[i])] = arr[ord(string2[i])] - 1\r\n",
    "    for i in range(256):\r\n",
    "        if arr[i] != 0:\r\n",
    "            return False\r\n",
    "    return True\r\n",
    "a = isPermutation('abd','abc')\r\n",
    "print(a)"
   ],
   "outputs": [
    {
     "output_type": "stream",
     "name": "stdout",
     "text": [
      "False\n"
     ]
    }
   ],
   "metadata": {}
  },
  {
   "cell_type": "code",
   "execution_count": 50,
   "source": [
    "def isPermutation(string1, string2) :\r\n",
    "    ptr = 0\r\n",
    "    if len(string1) != len(string2):\r\n",
    "        return False\r\n",
    "    arr = [0]*256\r\n",
    "    for i in range(0,len(string1)):\r\n",
    "        a = ord(string1[i])\r\n",
    "        arr[a] +=1\r\n",
    "    for i in range(0,len(string2)):\r\n",
    "        a = ord(string2[i])\r\n",
    "        arr[a] -=1\r\n",
    "    for i in range(256):\r\n",
    "        if arr[i] != 0:\r\n",
    "            return False\r\n",
    "        \r\n",
    "    return True\r\n",
    "a = isPermutation('abc987','acb879')\r\n",
    "print(a)"
   ],
   "outputs": [
    {
     "output_type": "stream",
     "name": "stdout",
     "text": [
      "True\n"
     ]
    }
   ],
   "metadata": {}
  },
  {
   "cell_type": "markdown",
   "source": [
    "### Question 2 - Remove Consecutive Duplicates"
   ],
   "metadata": {}
  },
  {
   "cell_type": "markdown",
   "source": [
    "<pre>\r\n",
    "For a given string(str), remove all the consecutive duplicate characters.\r\n",
    "Example:\r\n",
    "Input String: \"aaaa\"\r\n",
    "Expected Output: \"a\"\r\n",
    "\r\n",
    "Input String: \"aabbbcc\"\r\n",
    "Expected Output: \"abc\"\r\n",
    "\r\n",
    "Input Format:\r\n",
    "The first and only line of input contains a string without any leading and trailing spaces. All the characters in the string would be in lower case.\r\n",
    "Output Format:\r\n",
    "The only line of output prints the updated string.\r\n",
    "Note:\r\n",
    "You are not required to print anything. It has already been taken care of.\r\n",
    "Constraints:\r\n",
    "0 <= N <= 10^6\r\n",
    "Where N is the length of the input string.\r\n",
    "\r\n",
    "Time Limit: 1 second\r\n",
    "Sample Input 1:\r\n",
    "aabccbaa\r\n",
    "Sample Output 1:\r\n",
    "abcba\r\n",
    "Sample Input 2:\r\n",
    "xxyyzxx\r\n",
    "Sample Output 2:\r\n",
    "xyzx\r\n",
    "</pre>"
   ],
   "metadata": {}
  },
  {
   "cell_type": "code",
   "execution_count": 82,
   "source": [
    "def removeConsecutiveDuplicates(string):\r\n",
    "    ans = ''\r\n",
    "    for i in string:\r\n",
    "        if ans =='' or i != ans[len(ans)-1]:\r\n",
    "            ans += i\r\n",
    "    return ans\r\n",
    "\r\n",
    "a = removeConsecutiveDuplicates('aaabbc')\r\n",
    "print(a)"
   ],
   "outputs": [
    {
     "output_type": "stream",
     "name": "stdout",
     "text": [
      "abc\n"
     ]
    }
   ],
   "metadata": {}
  },
  {
   "cell_type": "code",
   "execution_count": 63,
   "source": [
    "def removeConsecutiveDuplicates(string):\r\n",
    "    n =  len(string)\r\n",
    "    ans = \"\"\r\n",
    "    startIndex = 0\r\n",
    "    while startIndex <n:\r\n",
    "        uniqueChar = string[startIndex]\r\n",
    "        nextUniqueCharIndex = startIndex + 1\r\n",
    "        \r\n",
    "        while ((nextUniqueCharIndex <n) and (string[nextUniqueCharIndex]==uniqueChar)):\r\n",
    "            nextUniqueCharIndex += 1\r\n",
    "        \r\n",
    "        ans += uniqueChar\r\n",
    "        startIndex = nextUniqueCharIndex\r\n",
    "    return ans\r\n",
    "        \r\n",
    "a = removeConsecutiveDuplicates('aaabbc')\r\n",
    "print(a)"
   ],
   "outputs": [
    {
     "output_type": "stream",
     "name": "stdout",
     "text": [
      "abc\n"
     ]
    }
   ],
   "metadata": {}
  },
  {
   "cell_type": "markdown",
   "source": [
    "### Question 3 - Reverse Each Word "
   ],
   "metadata": {}
  },
  {
   "cell_type": "markdown",
   "source": [
    "<pre>\r\n",
    "Aadil has been provided with a sentence in the form of a string as a function parameter. The task is to implement a function so as to print the sentence such that each word in the sentence is reversed.\r\n",
    "Example:\r\n",
    "Input Sentence: \"Hello, I am Aadil!\"\r\n",
    "The expected output will print, \",olleH I ma !lidaA\".\r\n",
    "Input Format:\r\n",
    "The first and only line of input contains a string without any leading and trailing spaces. The input string represents the sentence given to Aadil.\r\n",
    "Output Format:\r\n",
    "The only line of output prints the sentence(string) such that each word in the sentence is reversed. \r\n",
    "Constraints:\r\n",
    "0 <= N <= 10^6\r\n",
    "Where N is the length of the input string.\r\n",
    "\r\n",
    "Time Limit: 1 second\r\n",
    "Sample Input 1:\r\n",
    "Welcome to Coding Ninjas\r\n",
    "Sample Output 1:\r\n",
    "emocleW ot gnidoC sajniN\r\n",
    "Sample Input 2:\r\n",
    "Always indent your code\r\n",
    "Sample Output 2:\r\n",
    "syawlA tnedni ruoy edoc\r\n",
    "</pre>"
   ],
   "metadata": {}
  },
  {
   "cell_type": "code",
   "execution_count": 88,
   "source": [
    "def reverseEachWord(string):\r\n",
    "    arr = string.split(' ')\r\n",
    "    ans = ''\r\n",
    "    for i in range(len(arr)):\r\n",
    "        temp = arr[i]\r\n",
    "        temp = temp[::-1]\r\n",
    "        ans += temp + ' '\r\n",
    "    return ans\r\n",
    "\r\n",
    "a = reverseEachWord('Hello my name is Avishek')\r\n",
    "print(a)"
   ],
   "outputs": [
    {
     "output_type": "stream",
     "name": "stdout",
     "text": [
      "olleH ym eman si kehsivA \n"
     ]
    }
   ],
   "metadata": {}
  },
  {
   "cell_type": "code",
   "execution_count": 89,
   "source": [
    "def reverseEachWord(string):\r\n",
    "    arr = string.split(' ')\r\n",
    "    ans = ''\r\n",
    "    for i in range(len(arr)):\r\n",
    "        arr[i] = arr[i][::-1] + ' '\r\n",
    "        ans += arr[i]\r\n",
    "    return ans\r\n",
    "\r\n",
    "a = reverseEachWord('Hello my name is Avishek')\r\n",
    "print(a)"
   ],
   "outputs": [
    {
     "output_type": "stream",
     "name": "stdout",
     "text": [
      "olleH ym eman si kehsivA \n"
     ]
    }
   ],
   "metadata": {}
  },
  {
   "cell_type": "code",
   "execution_count": null,
   "source": [
    "def reverseWord(string, start, end) :    \r\n",
    "    reverse = \"\"    \r\n",
    "    while start < end :        \r\n",
    "        reverse = string[start] + reverse        \r\n",
    "    start += 1    \r\n",
    "    return reverse\r\n",
    "\r\n",
    "def reverseEachWord(string) :    \r\n",
    "    n = len(string)    \r\n",
    "    previousSpaceIndex = -1    \r\n",
    "    ans = \"\"    \r\n",
    "    \r\n",
    "    i = 0    \r\n",
    "    while i < n :        \r\n",
    "        if string[i] == ' ' :            \r\n",
    "            ans += (reverseWord(string, previousSpaceIndex + 1, i) + \" \")            \r\n",
    "            previousSpaceIndex = i        \r\n",
    "        i += 1    \r\n",
    "        \r\n",
    "    ans += (reverseWord(string, previousSpaceIndex + 1, i) + \" \")    \r\n",
    "    return ans"
   ],
   "outputs": [],
   "metadata": {}
  },
  {
   "cell_type": "markdown",
   "source": [
    "### Question 4 - Remove character"
   ],
   "metadata": {}
  },
  {
   "cell_type": "markdown",
   "source": [
    "<pre>\r\n",
    "For a given a string(str) and a character X, write a function to remove all the occurrences of X from the given string.\r\n",
    "The input string will remain unchanged if the given character(X) doesn't exist in the input string.\r\n",
    "Input Format:\r\n",
    "The first line of input contains a string without any leading and trailing spaces.\r\n",
    "\r\n",
    "The second line of input contains a character(X) without any leading and trailing spaces.\r\n",
    "Output Format:\r\n",
    "The only line of output prints the updated string. \r\n",
    "Note:\r\n",
    "You are not required to print anything explicitly. It has already been taken care of.\r\n",
    "Constraints:\r\n",
    "0 <= N <= 10^6\r\n",
    "Where N is the length of the input string.\r\n",
    "\r\n",
    "Time Limit: 1 second\r\n",
    "Sample Input 1:\r\n",
    "aabccbaa\r\n",
    "a\r\n",
    "Sample Output 1:\r\n",
    "bccb\r\n",
    "Sample Input 2:\r\n",
    "xxyyzxx\r\n",
    "y\r\n",
    "Sample Output 2:\r\n",
    "xxzxx\r\n",
    "</pre>"
   ],
   "metadata": {}
  },
  {
   "cell_type": "code",
   "execution_count": 100,
   "source": [
    "def removeAllOccurrencesOfChar(string, ch) :\r\n",
    "    ans = ''\r\n",
    "    for i in range(len(string)):\r\n",
    "        if ord(string[i]) != ord(ch):\r\n",
    "            ans += string[i]\r\n",
    "    return ans\r\n",
    "\r\n",
    "a = removeAllOccurrencesOfChar('abcaadsca','a')\r\n",
    "print(a)\r\n",
    "        "
   ],
   "outputs": [
    {
     "output_type": "stream",
     "name": "stdout",
     "text": [
      "bcdsc\n"
     ]
    }
   ],
   "metadata": {}
  },
  {
   "cell_type": "code",
   "execution_count": 101,
   "source": [
    "# Given Solution\r\n",
    "def removeAllOccurrencesOfChar(string, ch) :    \r\n",
    "    n = len(string)    \r\n",
    "    ans = \"\"    \r\n",
    "    for i in range(n) :         \r\n",
    "        if string[i] != ch :            \r\n",
    "            ans += string[i]\r\n",
    "    return ans\r\n",
    "\r\n",
    "a = removeAllOccurrencesOfChar('abcaadsca','a')\r\n",
    "print(a)"
   ],
   "outputs": [
    {
     "output_type": "stream",
     "name": "stdout",
     "text": [
      "bcdsc\n"
     ]
    }
   ],
   "metadata": {}
  },
  {
   "cell_type": "markdown",
   "source": [
    "### Question 5 - Highest Occuring Character"
   ],
   "metadata": {}
  },
  {
   "cell_type": "markdown",
   "source": [
    "<pre>\r\n",
    "For a given a string(str), find and return the highest occurring character.\r\n",
    "Example:\r\n",
    "Input String: \"abcdeapapqarr\"\r\n",
    "Expected Output: 'a'\r\n",
    "Since 'a' has appeared four times in the string which happens to be the highest frequency character, the answer would be 'a'.\r\n",
    "If there are two characters in the input string with the same frequency, return the character which comes first.\r\n",
    "Consider:\r\n",
    "Assume all the characters in the given string to be in lowercase always.\r\n",
    "Input Format:\r\n",
    "The first and only line of input contains a string without any leading and trailing spaces.\r\n",
    "Output Format:\r\n",
    "The only line of output prints the updated string. \r\n",
    "Note:\r\n",
    "You are not required to print anything explicitly. It has already been taken care of.\r\n",
    "Constraints:\r\n",
    "0 <= N <= 10^6\r\n",
    "Where N is the length of the input string.\r\n",
    "\r\n",
    "Time Limit: 1 second\r\n",
    "Sample Input 1:\r\n",
    "abdefgbabfba\r\n",
    "Sample Output 1:\r\n",
    "b\r\n",
    "Sample Input 2:\r\n",
    "xy\r\n",
    "Sample Output 2:\r\n",
    "x\r\n",
    "</pre>"
   ],
   "metadata": {}
  },
  {
   "cell_type": "code",
   "execution_count": 144,
   "source": [
    "def highestOccuringChar(string):\r\n",
    "    maxFrequency = 0\r\n",
    "    arr = [0]*256\r\n",
    "    ans = ''\r\n",
    "    for i in range(len(string)):\r\n",
    "        arr[ord(string[i])] += 1\r\n",
    "        # To find which number is the highest in the array\r\n",
    "        maxFrequency = max(maxFrequency, arr[ord(string[i])])\r\n",
    "    \r\n",
    "    # To map which which char has the highest frequency\r\n",
    "    for i in range(len(string)):\r\n",
    "        if arr[ord(string[i])] == maxFrequency:\r\n",
    "            ans = string[i]\r\n",
    "            break\r\n",
    "    return ans\r\n",
    "        \r\n",
    "a = highestOccuringChar('aabbbdddaaacchkjd888')\r\n",
    "print(a)"
   ],
   "outputs": [
    {
     "output_type": "stream",
     "name": "stdout",
     "text": [
      "a\n"
     ]
    }
   ],
   "metadata": {}
  },
  {
   "cell_type": "markdown",
   "source": [
    "### Question 6 - Compress the String "
   ],
   "metadata": {}
  },
  {
   "cell_type": "markdown",
   "source": [
    "<pre>\r\n",
    "Write a program to do basic string compression. For a character which is consecutively repeated more than once, replace consecutive duplicate occurrences with the count of repetitions.\r\n",
    "Exmple:\r\n",
    "If a string has 'x' repeated 5 times, replace this \"xxxxx\" with \"x5\".\r\n",
    "\r\n",
    "The string is compressed only when the repeated character count is more than 1.\r\n",
    "Note :\r\n",
    "Consecutive count of every character in the input string is less than or equal to 9.\r\n",
    "Input Format:\r\n",
    "The first and only line of input contains a string without any leading and trailing spaces.\r\n",
    "Output Format:\r\n",
    "The only line of output prints the updated string.\r\n",
    "Note:\r\n",
    "You are not required to print anything. It has already been taken care of.\r\n",
    "Constraints:\r\n",
    "0 <= N <= 10^6\r\n",
    "Where N is the length of the input string.\r\n",
    "\r\n",
    "Time Limit: 1 second\r\n",
    "Sample Input 1:\r\n",
    "aaabbccdsa\r\n",
    "Sample Output 1:\r\n",
    "a3b2c2dsa\r\n",
    "Sample Input 2:\r\n",
    "aaabbcddeeeee\r\n",
    "Sample Output 2:\r\n",
    "a3b2cd2e5\r\n",
    "<pre>"
   ],
   "metadata": {}
  },
  {
   "cell_type": "code",
   "execution_count": 178,
   "source": [
    "def getCompressedString(string):\r\n",
    "    n = len(string)\r\n",
    "    ans = ''\r\n",
    "    cur = 1\r\n",
    "    # if n==0:\r\n",
    "    #     return ans\r\n",
    "    # cur =1\r\n",
    "    ans +=string[0]\r\n",
    "    \r\n",
    "    for i in range(1,n):\r\n",
    "        if string[i] == string[i-1]:\r\n",
    "            cur +=1\r\n",
    "        else:\r\n",
    "            if cur > 1:\r\n",
    "                ans += str(cur)\r\n",
    "                cur = 1\r\n",
    "            ans +=string[i]\r\n",
    "\r\n",
    "    if cur > 1:\r\n",
    "        ans += str(cur)\r\n",
    "    \r\n",
    "    return(ans)\r\n",
    "\r\n",
    "a = getCompressedString('aaaaaabbddd')\r\n",
    "print(a)\r\n",
    "        "
   ],
   "outputs": [
    {
     "output_type": "stream",
     "name": "stdout",
     "text": [
      "a6b2d3\n"
     ]
    }
   ],
   "metadata": {}
  },
  {
   "cell_type": "code",
   "execution_count": 196,
   "source": [
    "# Does not pass all test cases as if a string is aaabccc it gives a3b1c3 insted of a3bc1\r\n",
    "def getCompressedString(string):\r\n",
    "    temp = string[0]\r\n",
    "    ans =''\r\n",
    "    count = 0 \r\n",
    "    string = string + \" \"\r\n",
    "    # TODO - see for a way to use indexed for loop in the process\r\n",
    "    for i in string:\r\n",
    "        if i == temp:\r\n",
    "            count +=1\r\n",
    "        else:\r\n",
    "            ans = ans + str(temp) + str(count)\r\n",
    "            temp = i\r\n",
    "            count = 1\r\n",
    "    return ans\r\n",
    "a = getCompressedString('aaaabbc')\r\n",
    "print(a)"
   ],
   "outputs": [
    {
     "output_type": "stream",
     "name": "stdout",
     "text": [
      "a4b2c1\n"
     ]
    }
   ],
   "metadata": {}
  },
  {
   "cell_type": "code",
   "execution_count": 159,
   "source": [
    "# Wrong and check why char not working\r\n",
    "# def getCompressedString(string):\r\n",
    "#     arr = [0]*256\r\n",
    "#     ans = ''\r\n",
    "#     for i in range(len(string)):\r\n",
    "#         arr[ord(string[i])] += 1\r\n",
    "    \r\n",
    "#     for i in range(len(arr)):\r\n",
    "#         if arr[i] == 0:\r\n",
    "#             pass\r\n",
    "#         else:\r\n",
    "#             ans = ans + (chr(arr[i]) + str(arr[i]))\r\n",
    "#     return(ans)\r\n",
    "\r\n",
    "# a = getCompressedString('aaabbbcccd')\r\n",
    "# print(a)"
   ],
   "outputs": [
    {
     "output_type": "stream",
     "name": "stdout",
     "text": [
      "\u00033\u00033\u00033\u00011\n"
     ]
    }
   ],
   "metadata": {}
  },
  {
   "cell_type": "markdown",
   "source": [
    "---"
   ],
   "metadata": {}
  },
  {
   "cell_type": "markdown",
   "source": [
    "---"
   ],
   "metadata": {}
  },
  {
   "cell_type": "markdown",
   "source": [
    "## 2D Lists"
   ],
   "metadata": {}
  },
  {
   "cell_type": "markdown",
   "source": [
    "### Intro to 2D Lists"
   ],
   "metadata": {}
  },
  {
   "cell_type": "code",
   "execution_count": 102,
   "source": [
    "# This is a 2D List\r\n",
    "li = [[1,2,3,4],[5,6,7,8],[9,10,11,12],[13,14,15,16]]"
   ],
   "outputs": [],
   "metadata": {}
  },
  {
   "cell_type": "code",
   "execution_count": 104,
   "source": [
    "li"
   ],
   "outputs": [
    {
     "output_type": "execute_result",
     "data": {
      "text/plain": [
       "[[1, 2, 3, 4], [5, 6, 7, 8], [9, 10, 11, 12], [13, 14, 15, 16]]"
      ]
     },
     "metadata": {},
     "execution_count": 104
    }
   ],
   "metadata": {}
  },
  {
   "cell_type": "code",
   "execution_count": 105,
   "source": [
    "li[2][2]"
   ],
   "outputs": [
    {
     "output_type": "execute_result",
     "data": {
      "text/plain": [
       "11"
      ]
     },
     "metadata": {},
     "execution_count": 105
    }
   ],
   "metadata": {}
  },
  {
   "cell_type": "code",
   "execution_count": 106,
   "source": [
    "li[3][2]"
   ],
   "outputs": [
    {
     "output_type": "execute_result",
     "data": {
      "text/plain": [
       "15"
      ]
     },
     "metadata": {},
     "execution_count": 106
    }
   ],
   "metadata": {}
  },
  {
   "cell_type": "markdown",
   "source": [
    "### Jagged Lists"
   ],
   "metadata": {}
  },
  {
   "cell_type": "code",
   "execution_count": 107,
   "source": [
    "li = [[1,2,3,4],[5,6,7],[8,9],[10,11]]"
   ],
   "outputs": [],
   "metadata": {}
  },
  {
   "cell_type": "code",
   "execution_count": 108,
   "source": [
    "li"
   ],
   "outputs": [
    {
     "output_type": "execute_result",
     "data": {
      "text/plain": [
       "[[1, 2, 3, 4], [5, 6, 7], [8, 9], [10, 11]]"
      ]
     },
     "metadata": {},
     "execution_count": 108
    }
   ],
   "metadata": {}
  },
  {
   "cell_type": "code",
   "execution_count": 109,
   "source": [
    "# the indexin is same\r\n",
    "li[2][1]"
   ],
   "outputs": [
    {
     "output_type": "execute_result",
     "data": {
      "text/plain": [
       "9"
      ]
     },
     "metadata": {},
     "execution_count": 109
    }
   ],
   "metadata": {}
  },
  {
   "cell_type": "code",
   "execution_count": 110,
   "source": [
    "li[0][3]"
   ],
   "outputs": [
    {
     "output_type": "execute_result",
     "data": {
      "text/plain": [
       "4"
      ]
     },
     "metadata": {},
     "execution_count": 110
    }
   ],
   "metadata": {}
  },
  {
   "cell_type": "markdown",
   "source": [
    "### List Comprehension"
   ],
   "metadata": {}
  },
  {
   "cell_type": "code",
   "execution_count": 111,
   "source": [
    "li = [1,2,3,4]\r\n",
    "li_new = []\r\n",
    "for ele in li:\r\n",
    "    li_new.append(ele**2)\r\n",
    "print(li_new)\r\n",
    "    "
   ],
   "outputs": [
    {
     "output_type": "stream",
     "name": "stdout",
     "text": [
      "[1, 4, 9, 16]\n"
     ]
    }
   ],
   "metadata": {}
  },
  {
   "cell_type": "code",
   "execution_count": 115,
   "source": [
    "# [outputwanted for ele in li]\r\n",
    "li_new2 = [ele**2 for ele in li]\r\n",
    "li_new2"
   ],
   "outputs": [
    {
     "output_type": "execute_result",
     "data": {
      "text/plain": [
       "[1, 4, 9, 16]"
      ]
     },
     "metadata": {},
     "execution_count": 115
    }
   ],
   "metadata": {}
  },
  {
   "cell_type": "code",
   "execution_count": 116,
   "source": [
    "# square of each element in li for even elements only\r\n",
    "li_even_square = [ele**2 for ele in li if ele%2 == 0]\r\n",
    "li_even_square"
   ],
   "outputs": [
    {
     "output_type": "execute_result",
     "data": {
      "text/plain": [
       "[4, 16]"
      ]
     },
     "metadata": {},
     "execution_count": 116
    }
   ],
   "metadata": {}
  },
  {
   "cell_type": "code",
   "execution_count": 117,
   "source": [
    "# append elements which are multiple of 2 and 3\r\n",
    "li = [1,2,3,4,5,6,7,8,9,10]\r\n",
    "li_n = [ele for ele in li if ele%2==0 and ele%3==0]\r\n",
    "li_n"
   ],
   "outputs": [
    {
     "output_type": "execute_result",
     "data": {
      "text/plain": [
       "[6]"
      ]
     },
     "metadata": {},
     "execution_count": 117
    }
   ],
   "metadata": {}
  },
  {
   "cell_type": "code",
   "execution_count": 118,
   "source": [
    "# we can have multiple for loops as well\r\n",
    "# we want a new list which has the elements which are common in li and li2\r\n",
    "li = [1,9,78,6,82,6]\r\n",
    "li2 = [2,34,54,82,9,4]\r\n",
    "li_intersection = [ele for ele in li for ele2 in li2 if ele == ele2]\r\n",
    "li_intersection"
   ],
   "outputs": [
    {
     "output_type": "execute_result",
     "data": {
      "text/plain": [
       "[9, 82]"
      ]
     },
     "metadata": {},
     "execution_count": 118
    }
   ],
   "metadata": {}
  },
  {
   "cell_type": "code",
   "execution_count": 120,
   "source": [
    "# we can have if else conditions too\r\n",
    "# if it is a multiple of 2 we want element squared else we want the same elements\r\n",
    "li = [1,2,3,4,5]\r\n",
    "li_new = [ele**2 if ele%2==0 else ele for ele in li] \r\n",
    "li_new"
   ],
   "outputs": [
    {
     "output_type": "execute_result",
     "data": {
      "text/plain": [
       "[1, 4, 3, 16, 5]"
      ]
     },
     "metadata": {},
     "execution_count": 120
    }
   ],
   "metadata": {}
  },
  {
   "cell_type": "code",
   "execution_count": 122,
   "source": [
    "# these comprehensions can be done on strings as well\r\n",
    "# each character in a new list\r\n",
    "a = 'Avishek'\r\n",
    "li = [ele for ele in a]\r\n",
    "li"
   ],
   "outputs": [
    {
     "output_type": "execute_result",
     "data": {
      "text/plain": [
       "['A', 'v', 'i', 's', 'h', 'e', 'k']"
      ]
     },
     "metadata": {},
     "execution_count": 122
    }
   ],
   "metadata": {}
  },
  {
   "cell_type": "code",
   "execution_count": 125,
   "source": [
    "# we can generate 2d lists using comprehensions\r\n",
    "#each row will have a list of names and the list of names will be broken into characters inside the list\r\n",
    "li = ['Avishek','Bhuvan','Keshav']\r\n",
    "li_2D = [[s for s in ele] for ele in li]\r\n",
    "li_2D"
   ],
   "outputs": [
    {
     "output_type": "execute_result",
     "data": {
      "text/plain": [
       "[['A', 'v', 'i', 's', 'h', 'e', 'k'],\n",
       " ['B', 'h', 'u', 'v', 'a', 'n'],\n",
       " ['K', 'e', 's', 'h', 'a', 'v']]"
      ]
     },
     "metadata": {},
     "execution_count": 125
    }
   ],
   "metadata": {}
  },
  {
   "cell_type": "code",
   "execution_count": 128,
   "source": [
    "li = [[ i*j for j in range(4)] for i in range(3)]\r\n",
    "print(li)"
   ],
   "outputs": [
    {
     "output_type": "stream",
     "name": "stdout",
     "text": [
      "[[0, 0, 0, 0], [0, 1, 2, 3], [0, 2, 4, 6]]\n"
     ]
    }
   ],
   "metadata": {}
  },
  {
   "cell_type": "markdown",
   "source": [
    "### Taking input of a 2D List - Type 1"
   ],
   "metadata": {}
  },
  {
   "cell_type": "markdown",
   "source": [
    "The input will be of the kind that first line will specify n,m(rows and column) and the 2D list will have each row in a different line:  \r\n",
    "3 4  \r\n",
    "1 2 3 4  \r\n",
    "5  6 7 8  \r\n",
    "9 10 11 12  \r\n",
    "\r\n",
    "<pre>\r\n",
    "str = input().split()\r\n",
    "n,m = int(str[0]), int(str[1])\r\n",
    "li = [[int(j) for j in input().split()] for i in range(n)]\r\n",
    "</pre>"
   ],
   "metadata": {}
  },
  {
   "cell_type": "code",
   "execution_count": 2,
   "source": [
    "# Input of n,m\r\n",
    "str = input().split()\r\n",
    "n,m = int(str[0]), int(str[1])\r\n",
    "# Input of the 2D List - The lsit inside is creating the lists which will be inside the list and the outer list will make the list that will contain the lists created by the inner list\r\n",
    "li = [[int(j) for j in input().split()] for i in range(n)]\r\n",
    "# the input is given as\r\n",
    "# 3 4\r\n",
    "# 1 2 3 4 \r\n",
    "# 5 6 7 8\r\n",
    "# 9 10 11 12 \r\n",
    "li"
   ],
   "outputs": [
    {
     "output_type": "execute_result",
     "data": {
      "text/plain": [
       "[[1, 2, 3, 4], [5, 6, 7, 8], [9, 10, 11, 12]]"
      ]
     },
     "metadata": {},
     "execution_count": 2
    }
   ],
   "metadata": {}
  },
  {
   "cell_type": "markdown",
   "source": [
    "### Taking input of a Jagged List"
   ],
   "metadata": {}
  },
  {
   "cell_type": "code",
   "execution_count": 5,
   "source": [
    "n = int(input())\r\n",
    "li = [[int(j) for j in input().split()] for i in range(n)]\r\n",
    "# the input is given int the form:\r\n",
    "# 4\r\n",
    "# 1 2 3 4\r\n",
    "# 5 6\r\n",
    "# 7\r\n",
    "# 8 9 10"
   ],
   "outputs": [],
   "metadata": {}
  },
  {
   "cell_type": "code",
   "execution_count": 6,
   "source": [
    "li"
   ],
   "outputs": [
    {
     "output_type": "execute_result",
     "data": {
      "text/plain": [
       "[[1, 2, 3, 4], [5, 6], [7], [8, 9, 10]]"
      ]
     },
     "metadata": {},
     "execution_count": 6
    }
   ],
   "metadata": {}
  },
  {
   "cell_type": "markdown",
   "source": [
    "### Taking input of a 2D List - Type 2"
   ],
   "metadata": {}
  },
  {
   "cell_type": "markdown",
   "source": [
    "The input will be of the kind that first line will specify n,m(rows and column) and the 2D list will have each row in a different line:  \r\n",
    "3 4  \r\n",
    "1 2 3 4 5 6 7 8 9 10 11 12\r\n",
    "\r\n",
    "<pre>\r\n",
    "With the formula m*i + j row given by m*i and column given by j\r\n",
    "</pre>"
   ],
   "metadata": {}
  },
  {
   "cell_type": "code",
   "execution_count": null,
   "source": [],
   "outputs": [],
   "metadata": {}
  }
 ],
 "metadata": {
  "orig_nbformat": 4,
  "language_info": {
   "name": "python"
  }
 },
 "nbformat": 4,
 "nbformat_minor": 2
}